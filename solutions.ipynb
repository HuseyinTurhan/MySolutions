{
 "cells": [
  {
   "cell_type": "markdown",
   "metadata": {},
   "source": [
    "# itertools.permutations(iterable[, r])\n",
    "<a>Task</a> : You are given a string <em>S</em>.\n",
    "Your task is to print all possible permutations of size <em>k</em> of the string in lexicographic sorted order.\n",
    "\n",
    "<a>Input Format</a> : A single line containing the space separated string  and the integer value <em>k</em>."
   ]
  },
  {
   "cell_type": "code",
   "execution_count": 23,
   "metadata": {},
   "outputs": [
    {
     "name": "stdout",
     "output_type": "stream",
     "text": [
      "Hac 2\n",
      "Ha\n",
      "Hc\n",
      "aH\n",
      "ac\n",
      "cH\n",
      "ca\n"
     ]
    }
   ],
   "source": [
    "from itertools import permutations\n",
    "s,k = input().split()\n",
    "print(s, k)\n",
    "new_list = sorted(list(permutations(s, int(k))), reverse= False)\n",
    "for word in new_list:\n",
    "    print(*word, sep=\"\")"
   ]
  },
  {
   "cell_type": "markdown",
   "metadata": {},
   "source": [
    "# sWAP cASE\n",
    "<a>Task</a> : Complete the swap_case function in the editor below.\n",
    "\n",
    "swap_case has the following parameters: \n",
    "<li>string s: the string to modify.</li>\n",
    "\n",
    "<a>Input Format</a> : A single line containing a string <em>s</em>."
   ]
  },
  {
   "cell_type": "code",
   "execution_count": null,
   "metadata": {},
   "outputs": [
    {
     "name": "stdout",
     "output_type": "stream",
     "text": [
      "HacKeR\n",
      "hACkEr\n"
     ]
    }
   ],
   "source": [
    "def swap_case(s):\n",
    "    temp = \"\".join(i.upper() if i.islower() else i.lower() for i in s)\n",
    "    return temp\n",
    "\n",
    "if __name__ == '__main__':\n",
    "    s = input()\n",
    "    print(s)\n",
    "    result = swap_case(s)\n",
    "    print(result)"
   ]
  },
  {
   "cell_type": "markdown",
   "metadata": {},
   "source": [
    "# Text Wrap\n",
    "<a>Task</a> : Complete the wrap function in the editor below.\n",
    "\n",
    "wrap has the following parameters:\n",
    "\n",
    "<li>string string: a long string</li>\n",
    "<li>int max_width: the width to wrap to.</li>\n",
    "\n",
    "<a>Input Format</a> : The first line contains a string, <em>string</em>.\n",
    "The second line contains the width, <em>max_width</em>."
   ]
  },
  {
   "cell_type": "code",
   "execution_count": null,
   "metadata": {},
   "outputs": [
    {
     "name": "stdout",
     "output_type": "stream",
     "text": [
      "Hacker Rank 3\n",
      "Hac\n",
      "ker\n",
      "Ran\n",
      "k\n"
     ]
    }
   ],
   "source": [
    "import textwrap\n",
    "\n",
    "def wrap(string, max_width):\n",
    "    return \"\\n\".join(textwrap.wrap(string,max_width))\n",
    "\n",
    "if __name__ == '__main__':\n",
    "    string, max_width = input(), int(input())\n",
    "    print(string, max_width)\n",
    "    result = wrap(string, max_width)\n",
    "    print(result)"
   ]
  }
 ],
 "metadata": {
  "interpreter": {
   "hash": "d84e8cbf94d05e254a793d6313d23a094fb66381629e37afe81ec295a13b228d"
  },
  "kernelspec": {
   "display_name": "Python 3.7.7 64-bit",
   "language": "python",
   "name": "python3"
  },
  "language_info": {
   "codemirror_mode": {
    "name": "ipython",
    "version": 3
   },
   "file_extension": ".py",
   "mimetype": "text/x-python",
   "name": "python",
   "nbconvert_exporter": "python",
   "pygments_lexer": "ipython3",
   "version": "3.7.7"
  },
  "orig_nbformat": 4
 },
 "nbformat": 4,
 "nbformat_minor": 2
}
