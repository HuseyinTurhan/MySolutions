{
 "cells": [
  {
   "cell_type": "markdown",
   "metadata": {},
   "source": [
    "# itertools.permutations(iterable[, r])\n",
    "<a>Task</a> : You are given a string <em>S</em>.\n",
    "Your task is to print all possible permutations of size <em>k</em> of the string in lexicographic sorted order.\n",
    "\n",
    "<a>Input Format</a> : A single line containing the space separated string  and the integer value <em>k</em>."
   ]
  },
  {
   "cell_type": "code",
   "execution_count": 23,
   "metadata": {},
   "outputs": [
    {
     "name": "stdout",
     "output_type": "stream",
     "text": [
      "Hac 2\n",
      "Ha\n",
      "Hc\n",
      "aH\n",
      "ac\n",
      "cH\n",
      "ca\n"
     ]
    }
   ],
   "source": [
    "from itertools import permutations\n",
    "s,k = input().split()\n",
    "print(s, k)\n",
    "new_list = sorted(list(permutations(s, int(k))), reverse= False)\n",
    "for word in new_list:\n",
    "    print(*word, sep=\"\")"
   ]
  },
  {
   "cell_type": "markdown",
   "metadata": {},
   "source": [
    "# sWAP cASE\n",
    "<a>Task</a> : Complete the swap_case function in the editor below.\n",
    "\n",
    "swap_case has the following parameters: \n",
    "<li>string s: the string to modify.</li>\n",
    "\n",
    "<a>Input Format</a> : A single line containing a string <em>s</em>."
   ]
  },
  {
   "cell_type": "code",
   "execution_count": null,
   "metadata": {},
   "outputs": [
    {
     "name": "stdout",
     "output_type": "stream",
     "text": [
      "HacKeR\n",
      "hACkEr\n"
     ]
    }
   ],
   "source": [
    "def swap_case(s):\n",
    "    temp = \"\".join(i.upper() if i.islower() else i.lower() for i in s)\n",
    "    return temp\n",
    "\n",
    "if __name__ == '__main__':\n",
    "    s = input()\n",
    "    print(s)\n",
    "    result = swap_case(s)\n",
    "    print(result)"
   ]
  },
  {
   "cell_type": "markdown",
   "metadata": {},
   "source": [
    "# Text Wrap\n",
    "<a>Task</a> : Complete the wrap function in the editor below.\n",
    "\n",
    "wrap has the following parameters:\n",
    "\n",
    "<li>string string: a long string</li>\n",
    "<li>int max_width: the width to wrap to.</li>\n",
    "\n",
    "<a>Input Format</a> : The first line contains a string, <em>string</em>.\n",
    "The second line contains the width, <em>max_width</em>."
   ]
  },
  {
   "cell_type": "code",
   "execution_count": null,
   "metadata": {},
   "outputs": [
    {
     "name": "stdout",
     "output_type": "stream",
     "text": [
      "Hacker Rank 3\n",
      "Hac\n",
      "ker\n",
      "Ran\n",
      "k\n"
     ]
    }
   ],
   "source": [
    "import textwrap\n",
    "\n",
    "def wrap(string, max_width):\n",
    "    return \"\\n\".join(textwrap.wrap(string,max_width))\n",
    "\n",
    "if __name__ == '__main__':\n",
    "    string, max_width = input(), int(input())\n",
    "    print(string, max_width)\n",
    "    result = wrap(string, max_width)\n",
    "    print(result)"
   ]
  },
  {
   "cell_type": "markdown",
   "metadata": {},
   "source": [
    "# Find the Runner-Up Score!\n",
    "<a>Task</a> : Given the participants' score sheet for your University Sports Day, you are required to find the runner-up score. You are given  scores. Store them in a list and find the score of the runner-up.\n",
    "\n",
    "<a>Input Format</a> : The first line contains <em>n</em>. The second line contains an array  <em>A[ ]</em> of  <em>n</em> integers each separated by a space."
   ]
  },
  {
   "cell_type": "code",
   "execution_count": null,
   "metadata": {},
   "outputs": [
    {
     "name": "stdout",
     "output_type": "stream",
     "text": [
      "4\n"
     ]
    }
   ],
   "source": [
    "if __name__ == '__main__':\n",
    "    n = int(input())\n",
    "    arr = map(int, input().split())\n",
    "    print(sorted(set(arr))[-2])"
   ]
  },
  {
   "cell_type": "markdown",
   "metadata": {},
   "source": [
    "# itertools.combinations()\n",
    "<a>Task</a> : You are given a string <em>S</em>.\n",
    "Your task is to print all possible combinations, up to size <em>k</em>, of the string in lexicographic sorted order.\n",
    "\n",
    "<a>Input Format</a> : A single line containing the string  <em>S</em> and integer value  <em>k</em> separated by a space."
   ]
  },
  {
   "cell_type": "code",
   "execution_count": null,
   "metadata": {},
   "outputs": [
    {
     "name": "stdout",
     "output_type": "stream",
     "text": [
      "Hack 2\n",
      "H\n",
      "a\n",
      "c\n",
      "k\n",
      "Ha\n",
      "Hc\n",
      "Hk\n",
      "ac\n",
      "ak\n",
      "ck\n"
     ]
    }
   ],
   "source": [
    "from itertools import combinations\n",
    "\n",
    "s,k = input().split()\n",
    "print(s,k)\n",
    "k=int(k)\n",
    "i=1\n",
    "while k >= i:\n",
    "    words = list(combinations(sorted(s),i))\n",
    "    for word in words:\n",
    "        print(*word, sep=\"\")\n",
    "    i+=1"
   ]
  },
  {
   "cell_type": "markdown",
   "metadata": {},
   "source": [
    "# Text Alignment\n",
    "<a>Task</a> : You are given a partial code that is used for generating the HackerRank Logo of variable thickness.\n",
    "Your task is to replace the blank (______) with rjust, ljust or center.\n",
    "\n",
    "<a>Input Format</a> : A single line containing the thickness value for the logo."
   ]
  },
  {
   "cell_type": "code",
   "execution_count": 21,
   "metadata": {},
   "outputs": [
    {
     "name": "stdout",
     "output_type": "stream",
     "text": [
      "  H  \n",
      " HHH \n",
      "HHHHH\n",
      " HHH         HHH        \n",
      " HHH         HHH        \n",
      " HHH         HHH        \n",
      " HHH         HHH        \n",
      " HHHHHHHHHHHHHHH  \n",
      " HHHHHHHHHHHHHHH  \n",
      " HHH         HHH        \n",
      " HHH         HHH        \n",
      " HHH         HHH        \n",
      " HHH         HHH        \n",
      "            HHHHH \n",
      "             HHH  \n",
      "              H   \n"
     ]
    }
   ],
   "source": [
    "thickness = int(input()) #This must be an odd number\n",
    "c = 'H'\n",
    "\n",
    "#Top Cone\n",
    "for i in range(thickness):\n",
    "    print((c*i).rjust(thickness-1)+c+(c*i).ljust(thickness-1))\n",
    "\n",
    "#Top Pillars\n",
    "for i in range(thickness+1):\n",
    "    print((c*thickness).center(thickness*2)+(c*thickness).center(thickness*6))\n",
    "\n",
    "#Middle Belt\n",
    "for i in range((thickness+1)//2):\n",
    "    print((c*thickness*5).center(thickness*6))    \n",
    "\n",
    "#Bottom Pillars\n",
    "for i in range(thickness+1):\n",
    "    print((c*thickness).center(thickness*2)+(c*thickness).center(thickness*6))    \n",
    "\n",
    "#Bottom Cone\n",
    "for i in range(thickness):\n",
    "    print(((c*(thickness-i-1)).rjust(thickness)+c+(c*(thickness-i-1)).ljust(thickness)).rjust(thickness*6))"
   ]
  },
  {
   "cell_type": "markdown",
   "metadata": {},
   "source": [
    "# Designer Door Mat\n",
    "<a>Task</a> : Mr. Vincent works in a door mat manufacturing company. One day, he designed a new door mat with the following specifications:\n",
    "\n",
    "Mat size must be <em>M x N </em>. (<em>N</em> is an odd natural number, and <em>M</em> is <em>3</em> times <em>N</em>.)\n",
    "<li>The design should have 'WELCOME' written in the center.</li>\n",
    "<li>The design pattern should only use |, . and - characters.</li> \n",
    "\n",
    "<a>Input Format</a> : A single line containing the the space separated values of <em>N</em> and  <em>M</em>."
   ]
  },
  {
   "cell_type": "code",
   "execution_count": 24,
   "metadata": {},
   "outputs": [
    {
     "name": "stdout",
     "output_type": "stream",
     "text": [
      "------------.|.------------\n",
      "---------.|..|..|.---------\n",
      "------.|..|..|..|..|.------\n",
      "---.|..|..|..|..|..|..|.---\n",
      "----------WELCOME----------\n",
      "---.|..|..|..|..|..|..|.---\n",
      "------.|..|..|..|..|.------\n",
      "---------.|..|..|.---------\n",
      "------------.|.------------\n"
     ]
    }
   ],
   "source": [
    "n, m = input().split()\n",
    "n = int(n)\n",
    "m = int(m)\n",
    "for i in range(n):\n",
    "    if i < (n-1)/2:\n",
    "        print((\".|.\"*(i*2+1)).center(m, \"-\"))\n",
    "    elif i == (n-1)/2 :\n",
    "        print(\"WELCOME\".center(m,\"-\"))\n",
    "    elif i > (n-1)/2:\n",
    "        print((\".|.\"*((n-i)*2-1)).center(m, \"-\"))\n"
   ]
  },
  {
   "cell_type": "markdown",
   "metadata": {},
   "source": [
    "# itertools.permutations(iterable[, r])\n",
    "<a>Task</a> : You are given a string <em>S</em>.\n",
    "Your task is to print all possible permutations of size <em>k</em> of the string in lexicographic sorted order.\n",
    "\n",
    "<a>Input Format</a> : A single line containing the space separated string <em>S</em> and the integer value <em>k</em>."
   ]
  },
  {
   "cell_type": "code",
   "execution_count": 25,
   "metadata": {},
   "outputs": [
    {
     "name": "stdout",
     "output_type": "stream",
     "text": [
      "Ha\n",
      "Hc\n",
      "Hk\n",
      "aH\n",
      "ac\n",
      "ak\n",
      "cH\n",
      "ca\n",
      "ck\n",
      "kH\n",
      "ka\n",
      "kc\n"
     ]
    }
   ],
   "source": [
    "from itertools import permutations\n",
    "s,k = input().split()\n",
    "new_list = sorted(list(permutations(s, int(k))), reverse= False)\n",
    "for word in new_list:\n",
    "    print(*word, sep=\"\")"
   ]
  },
  {
   "cell_type": "markdown",
   "metadata": {},
   "source": [
    "# itertools.combinations_with_replacement(iterable, r)\n",
    "<a>Task</a> : You are given a string <em>S</em>.\n",
    "Your task is to print all possible size <em>k</em> replacement combinations of the string in lexicographic sorted order.\n",
    "\n",
    "<a>Input Format</a> : A single line containing the string <em>S</em> and the integer value <em>k</em>."
   ]
  },
  {
   "cell_type": "code",
   "execution_count": 26,
   "metadata": {},
   "outputs": [
    {
     "name": "stdout",
     "output_type": "stream",
     "text": [
      "aa\n",
      "ac\n",
      "ah\n",
      "cc\n",
      "ch\n",
      "hh\n"
     ]
    }
   ],
   "source": [
    "from itertools import combinations_with_replacement\n",
    "\n",
    "s,k = input().split()\n",
    "\n",
    "words = list(combinations_with_replacement(sorted(s), int(k)))\n",
    "\n",
    "for word in words:\n",
    "    print(*word, sep = \"\")"
   ]
  },
  {
   "cell_type": "markdown",
   "metadata": {},
   "source": [
    "# Polynomials\n",
    "<a>Task</a> : You are given the coefficients of a polynomial <em>P</em>.\n",
    "Your task is to find the value of <em>P</em> at point <em>x</em>.\n",
    "\n",
    "<a>Input Format</a> : The first line contains the space separated value of the coefficients in  <em>P</em>.\n",
    "The second line contains the value of <em>x</em>."
   ]
  },
  {
   "cell_type": "code",
   "execution_count": 27,
   "metadata": {},
   "outputs": [
    {
     "name": "stdout",
     "output_type": "stream",
     "text": [
      "12.799999999999999\n"
     ]
    }
   ],
   "source": [
    "import numpy\n",
    "\n",
    "t = list(map(float, input().split()))\n",
    "x = int(input())\n",
    "print(numpy.polyval(t,x))"
   ]
  },
  {
   "cell_type": "markdown",
   "metadata": {},
   "source": [
    "# Check Strict Superset\n",
    "<a>Task</a> : You are given a set  <em>A</em> and <em>n</em> other sets.\n",
    "Your job is to find whether set <em>A</em> is a strict superset of each of the <em>n</em> sets.\n",
    "\n",
    "Print True, if <em>A</em> is a strict superset of each of the <em>n</em> sets. Otherwise, print False.\n",
    "\n",
    "<a>Input Format</a> : The first line contains the space separated elements of set  <em>A</em>.\n",
    "The second line contains integer  <em>n</em>, the number of other sets.\n",
    "The next  <em>n</em> lines contains the space separated elements of the other sets."
   ]
  },
  {
   "cell_type": "code",
   "execution_count": 28,
   "metadata": {},
   "outputs": [
    {
     "name": "stdout",
     "output_type": "stream",
     "text": [
      "True\n"
     ]
    }
   ],
   "source": [
    "A = set(input().split())\n",
    "n = int(input())\n",
    "strict_superset = True\n",
    "for i in range(n):\n",
    "    new_set = set(input().split())\n",
    "    if not new_set.issubset(A) or not (len(A) > len(new_set)):\n",
    "        strict_superset = False\n",
    "print(strict_superset)"
   ]
  },
  {
   "cell_type": "markdown",
   "metadata": {},
   "source": [
    "# Compress the String!\n",
    "<a>Task</a> : In this task, we would like for you to appreciate the usefulness of the groupby() function of itertools .\n",
    "You are given a string  <em>S</em>. Suppose a character '<em>c</em>' occurs consecutively  <em>X</em> times in the string. Replace these consecutive occurrences of the character '<em>(X,c)</em>' with  in the string.\n",
    "\n",
    "<a>Input Format</a> : A single line of input consisting of the string   <em>S</em>."
   ]
  },
  {
   "cell_type": "code",
   "execution_count": 30,
   "metadata": {},
   "outputs": [
    {
     "name": "stdout",
     "output_type": "stream",
     "text": [
      "123456521\n",
      "(1, 1) (1, 2) (1, 3) (1, 4) (1, 5) (1, 6) (1, 5) (1, 2) (1, 1) "
     ]
    }
   ],
   "source": [
    "from itertools import groupby\n",
    "\n",
    "s = input()\n",
    "print(s)\n",
    "temp_list = []\n",
    "times = []\n",
    "\n",
    "for k,g in groupby(s):\n",
    "    temp_list.append(list(g))\n",
    "    times.append(int(k))\n",
    "\n",
    "for i in range(len(times)):\n",
    "    print((len(temp_list[i]), times[i]), end=\" \")\n"
   ]
  },
  {
   "cell_type": "markdown",
   "metadata": {},
   "source": [
    "# Iterables and Iterators\n",
    "<a>Task</a> : You are given a list of <em>N</em> lowercase English letters. For a given integer <em>K</em>, you can select any <em>K</em> indices (assume 1-based indexing) with a uniform probability from the list.\n",
    "\n",
    "Find the probability that at least one of the <em>K</em> indices selected will contain the letter: '<em>a</em>'.\n",
    "\n",
    "<a>Input Format</a> : The input consists of three lines. \n",
    "\n",
    "The first line contains the integer  <em>N</em>, denoting the length of the list.\n",
    "\n",
    "The next line consists of <em>N</em> space-separated lowercase English letters, denoting the elements of the list.\n",
    "\n",
    "The third and the last line of input contains the integer <em>K</em>, denoting the number of indices to be selected."
   ]
  },
  {
   "cell_type": "code",
   "execution_count": 37,
   "metadata": {},
   "outputs": [
    {
     "name": "stdout",
     "output_type": "stream",
     "text": [
      "['a', 'a', 'd', 'c'] \n",
      " 0.8333333333333334\n"
     ]
    }
   ],
   "source": [
    "from itertools import permutations\n",
    "\n",
    "l = int(input())\n",
    "n = input().replace(' ', '')\n",
    "k = int(input())\n",
    "print([i for i in n], end=\" \")\n",
    "temp_list = [''.join(x) for x in permutations(n, k)]\n",
    "output = 0\n",
    "\n",
    "for i in temp_list:\n",
    "    if \"a\" in i:\n",
    "        output+=1\n",
    "print(\"\\n\", output/len(temp_list))\n"
   ]
  },
  {
   "cell_type": "markdown",
   "metadata": {},
   "source": [
    "# collections.Counter()\n",
    "<a>Task</a> : <em>Raghu</em> is a shoe shop owner. His shop has <em>X</em> number of shoes.\n",
    "He has a list containing the size of each shoe he has in his shop.\n",
    "There are <em>N</em> number of customers who are willing to pay <em>Xi</em> amount of money only if they get the shoe of their desired size.\n",
    "\n",
    "Your task is to compute how much money <em>Raghu</em> earned.\n",
    "\n",
    "<a>Input Format</a> : The first line contains <em>X</em>, the number of shoes.\n",
    "The second line contains the space separated list of all the shoe sizes in the shop.\n",
    "The third line contains <em>N</em>, the number of customers.\n",
    "The next <em>N</em> lines contain the space separated values of the <em>shoe size</em> desired by the customer and <em>Xi</em>, the price of the shoe."
   ]
  },
  {
   "cell_type": "code",
   "execution_count": 38,
   "metadata": {},
   "outputs": [
    {
     "name": "stdout",
     "output_type": "stream",
     "text": [
      "200\n"
     ]
    }
   ],
   "source": [
    "from collections import Counter\n",
    "\n",
    "x = int(input())\n",
    "sizes = list(input().split())\n",
    "n = int(input())\n",
    "total_money = 0\n",
    "\n",
    "for i in range(n):\n",
    "    size, price = input().split()\n",
    "    if size in Counter(sizes).keys():\n",
    "        sizes.remove(size)\n",
    "        total_money += int(price)\n",
    "print(total_money)"
   ]
  },
  {
   "cell_type": "markdown",
   "metadata": {},
   "source": [
    "# Company Logo\n",
    "<a>Task</a> : Given a string <em>s</em>, which is the company name in lowercase letters, your task is to find the top three most common characters in the string.\n",
    "\n",
    "<li>Print the three most common characters along with their occurrence count.\n",
    "<li>Sort in descending order of occurrence count.\n",
    "<li>If the occurrence count is the same, sort the characters in alphabetical order.</li>\n",
    "\n",
    "<a>Input Format</a> : A single line of input containing the string <em>S</em>."
   ]
  },
  {
   "cell_type": "code",
   "execution_count": 40,
   "metadata": {},
   "outputs": [
    {
     "name": "stdout",
     "output_type": "stream",
     "text": [
      "d 3\n",
      "a 2\n",
      "f 2\n"
     ]
    }
   ],
   "source": [
    "if __name__ == '__main__':\n",
    "    s = input()\n",
    "    new_dict = {}\n",
    "    for i in s:\n",
    "        if i not in new_dict.keys():\n",
    "            new_dict[i] = 1\n",
    "        else:\n",
    "            new_dict[i] += 1\n",
    "            \n",
    "    new_dict = sorted(new_dict.items(), key=lambda x: (-x[1], x[0]))\n",
    "            \n",
    "    for i, (key,val) in enumerate(new_dict):\n",
    "        if i < 3:\n",
    "            print(key, val)\n"
   ]
  },
  {
   "cell_type": "markdown",
   "metadata": {},
   "source": [
    "# Maximize It!\n",
    "<a>Task</a> : You are given a function <em>f(x) = x^2</em>. You are also given <em>K</em> lists. The <em>ith</em> list consists of <em>Ni</em> elements.\n",
    "\n",
    "You have to pick one element from each list so that the value from the equation below is maximized:\n",
    "\n",
    "<em>S = (f(x1) + f(x2) + ... + f(xk))%M</em>\n",
    "\n",
    "<em>X</em>denotes the element picked from the <em>ith</em> list. Find the maximized value <em>Smax</em> obtained.\n",
    "\n",
    "<em>%</em> denotes the modulo operator.\n",
    "\n",
    "<a>Input Format</a> : The first line contains <em>2</em> space separated integers <em>K</em> and <em>M</em>.\n",
    "The next <em>K</em> lines each contains an integer <em>Ni</em>, denoting the number of elements in the <em>ith</em> list, followed by <em>Ni</em> space separated integers denoting the elements in the list."
   ]
  },
  {
   "cell_type": "code",
   "execution_count": 54,
   "metadata": {},
   "outputs": [
    {
     "name": "stdout",
     "output_type": "stream",
     "text": [
      "206\n"
     ]
    }
   ],
   "source": [
    "from itertools import product\n",
    "\n",
    "k, m = map(int, input().split())\n",
    "n = []\n",
    "max_s = []\n",
    "for _ in range(k):\n",
    "    temp = list(map(int, input().split()))\n",
    "    temp.pop(0)\n",
    "    n.append(map(lambda x: x**2%m, temp))\n",
    "\n",
    "print(max(map(lambda x:sum(x)%m, product(*n))))"
   ]
  },
  {
   "cell_type": "markdown",
   "metadata": {},
   "source": [
    "# Merge the Tools!\n",
    "<a>Task</a> : Complete the merge_the_tools function in the editor below.\n",
    "\n",
    "merge_the_tools has the following parameters:\n",
    "\n",
    "<li>string s: the string to analyze</li>\n",
    "<li>int k: the size of substrings to analyze</li>\n",
    "\n",
    "\n",
    "<a>Input Format</a> : The first line contains a single string, <em>s</em>.\n",
    "The second line contains an integer, <em>k</em>, the length of each substring. "
   ]
  },
  {
   "cell_type": "code",
   "execution_count": 2,
   "metadata": {},
   "outputs": [
    {
     "name": "stdout",
     "output_type": "stream",
     "text": [
      "ADS\n",
      "AS\n",
      "REF\n"
     ]
    }
   ],
   "source": [
    "def merge_the_tools(string, k):\n",
    "    # your code goes here\n",
    "    for i in range(int(len(string)/k)):\n",
    "        sub_string = string[i*k:(i+1)*k]    \n",
    "        temp = set()\n",
    "        for letter in sub_string:\n",
    "            if letter not in temp:\n",
    "                print(letter, end=\"\")\n",
    "                temp.add(letter)\n",
    "        print()\n",
    "                    \n",
    "if __name__ == '__main__':\n",
    "    string, k = input(), int(input())\n",
    "    merge_the_tools(string, k)"
   ]
  },
  {
   "cell_type": "markdown",
   "metadata": {},
   "source": [
    "# Alphabet Rangoli\n",
    "<a>Task</a> : Complete the rangoli function in the editor below.\n",
    "\n",
    "rangoli has the following parameters:\n",
    "\n",
    "<li>int size: the size of the rangoli</li>\n",
    "\n",
    "<a>Input Format</a> : Only one line of input containing  <em>size</em> , the size of the rangoli."
   ]
  },
  {
   "cell_type": "code",
   "execution_count": 11,
   "metadata": {},
   "outputs": [
    {
     "name": "stdout",
     "output_type": "stream",
     "text": [
      "--------e--------\n",
      "------e-d-e------\n",
      "----e-d-c-d-e----\n",
      "--e-d-c-b-c-d-e--\n",
      "e-d-c-b-a-b-c-d-e\n",
      "--e-d-c-b-c-d-e--\n",
      "----e-d-c-d-e----\n",
      "------e-d-e------\n",
      "--------e--------\n"
     ]
    }
   ],
   "source": [
    "def print_rangoli(size):\n",
    "    # your code goes here\n",
    "    import string\n",
    "    new_list =[]\n",
    "    for i in range(size):\n",
    "        temp = \"-\".join(string.ascii_letters[i:size])\n",
    "        new_list.append((temp[::-1]+temp[1:]).center(2*2*(size-1)+1, \"-\"))\n",
    "    print(\"\\n\".join(new_list[:0:-1]+new_list))\n",
    "        \n",
    "if __name__ == '__main__':\n",
    "    n = int(input())\n",
    "    print_rangoli(n)"
   ]
  },
  {
   "cell_type": "markdown",
   "metadata": {},
   "source": [
    "# Capitalize!\n",
    "<a>Task</a> : You are asked to ensure that the first and last names of people begin with a capital letter in their passports. For example, alison heck should be capitalised correctly as Alison Heck.\n",
    "\n",
    "<em><span style=\"color:red\"> *a*</span>lison <span style=\"color:red\"> *h*</span>eck ==> Alison Heck</em>\n",
    "\n",
    "Given a full name, your task is to capitalize the name appropriately.\n",
    "\n",
    "<a>Input Format</a> : A single line of input containing the full name,<em>S</em>."
   ]
  },
  {
   "cell_type": "code",
   "execution_count": 23,
   "metadata": {},
   "outputs": [
    {
     "name": "stdout",
     "output_type": "stream",
     "text": [
      "Sir, Chris Alan Here\n"
     ]
    }
   ],
   "source": [
    "# Complete the solve function below.\n",
    "def solve(s):\n",
    "    temp = s.split(\" \")\n",
    "    return \" \".join(temp[i].capitalize() for i in range(len(temp)))\n",
    "\n",
    "if __name__ == '__main__':\n",
    "    s = input()\n",
    "    print(solve(s))"
   ]
  },
  {
   "cell_type": "markdown",
   "metadata": {},
   "source": [
    "# The Minion Game\n",
    "<a>Task</a> : Complete the minion_game in the editor below.\n",
    "\n",
    "minion_game has the following parameters:\n",
    "\n",
    "<li>string string: the string to analyze</li>\n",
    "\n",
    "<a>Input Format</a> : A single line of input containing the string <em>S</em>."
   ]
  },
  {
   "cell_type": "code",
   "execution_count": 24,
   "metadata": {},
   "outputs": [
    {
     "name": "stdout",
     "output_type": "stream",
     "text": [
      "Stuart 12\n"
     ]
    }
   ],
   "source": [
    "def minion_game(string):\n",
    "    # your code goes here\n",
    "    vowels = \"AEIOU\"\n",
    "    k_score, s_score = 0, 0\n",
    "    for i in range(len(string)):\n",
    "        # if ith letter starting with vowels/consonants that means we can keep making words by adding\n",
    "        # letters to the right until the end of string\n",
    "        if string[i] in vowels:\n",
    "            k_score += len(string) - i\n",
    "        else:\n",
    "            s_score += len(string) - i\n",
    "    \n",
    "    if k_score > s_score:\n",
    "        print(\"Kevin\", k_score)\n",
    "    elif s_score > k_score:\n",
    "        print(\"Stuart\", s_score)\n",
    "    else:\n",
    "        print(\"Draw\")\n",
    "                \n",
    "if __name__ == '__main__':\n",
    "    s = input()\n",
    "    minion_game(s)"
   ]
  },
  {
   "cell_type": "markdown",
   "metadata": {},
   "source": [
    "# String Formatting\n",
    "<a>Task</a> : Complete the print_formatted function in the editor below.\n",
    "\n",
    "print_formatted has the following parameters:\n",
    "\n",
    "<li>int number: the maximum value to print</li>\n",
    "\n",
    "<a>Input Format</a> : A single integer denoting  <em>n</em>."
   ]
  },
  {
   "cell_type": "code",
   "execution_count": 1,
   "metadata": {},
   "outputs": [
    {
     "name": "stdout",
     "output_type": "stream",
     "text": [
      "    1     1     1     1\n",
      "    2     2     2    10\n",
      "    3     3     3    11\n",
      "    4     4     4   100\n",
      "    5     5     5   101\n",
      "    6     6     6   110\n",
      "    7     7     7   111\n",
      "    8    10     8  1000\n",
      "    9    11     9  1001\n",
      "   10    12     A  1010\n",
      "   11    13     B  1011\n",
      "   12    14     C  1100\n",
      "   13    15     D  1101\n",
      "   14    16     E  1110\n",
      "   15    17     F  1111\n",
      "   16    20    10 10000\n",
      "   17    21    11 10001\n"
     ]
    }
   ],
   "source": [
    "def print_formatted(number):\n",
    "    # your code goes here\n",
    "    padding = len(bin(number))-2 # -2 for the 2 digit prefix 0b\n",
    "    for i in range(1,number+1):\n",
    "        print(\"{decimal:>{padding}d} {octal:>{padding}o} {HEXADECIMAL:>{padding}X} {binary:>{padding}b}\".format(decimal=i,octal=i,HEXADECIMAL=i,binary=i, padding=padding))\n",
    "        \n",
    "if __name__ == '__main__':\n",
    "    n = int(input())\n",
    "    print_formatted(n)"
   ]
  },
  {
   "cell_type": "markdown",
   "metadata": {},
   "source": [
    "# Polar Coordinates\n",
    "<a>Task</a> : You are given a complex <em>z</em>. Your task is to convert it to polar coordinates.\n",
    "\n",
    "<a>Input Format</a> : A single line containing the complex number <em>z</em>. Note: complex() function can be used in python to convert the input as a complex number."
   ]
  },
  {
   "cell_type": "code",
   "execution_count": 2,
   "metadata": {},
   "outputs": [
    {
     "name": "stdout",
     "output_type": "stream",
     "text": [
      "2.23606797749979 \n",
      " 1.1071487177940904\n"
     ]
    }
   ],
   "source": [
    "import cmath\n",
    "z = complex(input())\n",
    "print(abs(z), \"\\n\", cmath.phase(z))\n",
    "# below code also can be used for one of the cleanest approach\n",
    "#print(*cmath.polar(complex(input())), sep='\\n')"
   ]
  },
  {
   "cell_type": "markdown",
   "metadata": {},
   "source": [
    "# Introduction to Sets\n",
    "<a>Task</a> : Complete the average function in the editor below.\n",
    "\n",
    "average has the following parameters:\n",
    "\n",
    "<li>int arr: an array of integers</li>\n",
    "\n",
    "<a>Input Format</a> : The first line contains the integer, <em>N</em> , the size of <em>arr</em>.\n",
    "The second line contains the <em>N</em> space-separated integers, <em>arr[i]</em>. "
   ]
  },
  {
   "cell_type": "code",
   "execution_count": 3,
   "metadata": {},
   "outputs": [
    {
     "name": "stdout",
     "output_type": "stream",
     "text": [
      "152.25\n"
     ]
    }
   ],
   "source": [
    "def average(array):\n",
    "    # your code goes here\n",
    "    return sum(set(array)) / len(set(array))\n",
    "\n",
    "if __name__ == '__main__':\n",
    "    n = int(input())\n",
    "    arr = list(map(int, input().split()))\n",
    "    result = average(arr)\n",
    "    print(result)"
   ]
  },
  {
   "cell_type": "markdown",
   "metadata": {},
   "source": [
    "# DefaultDict Tutorial\n",
    "<a>Task</a> : In this challenge, you will be given <em>2</em> integers,  <em>n</em> and <em>m</em>. There are <em>n</em> words, which might repeat, in word group <em>A</em>. There are <em>m</em> words belonging to word group <em>B</em>. For each <em>m</em> words, check whether the word has appeared in group <em>A</em> or not. Print the indices of each occurrence of <em>m</em> in group <em>A</em>. If it does not appear, print <em>-1</em>.\n",
    "\n",
    "<a>Input Format</a> : The first line contains integers, <em>n</em> and <em>m</em> separated by a space.\n",
    "The next <em>n</em> lines contains the words belonging to group <em>A</em>.\n",
    "The next <em>m</em> lines contains the words belonging to group <em>B</em>. "
   ]
  },
  {
   "cell_type": "code",
   "execution_count": 4,
   "metadata": {},
   "outputs": [
    {
     "name": "stdout",
     "output_type": "stream",
     "text": [
      "1 2 4\n",
      "3 5\n"
     ]
    }
   ],
   "source": [
    "# have been avoided solving it with multiple for loop, inspired by another solution in discussions section\n",
    "from collections import defaultdict\n",
    "\n",
    "n, m = map(int, input().split(sep=\" \"))\n",
    "d = defaultdict(list)\n",
    "for i in range(n):\n",
    "    d[input()].append(str(i+1))\n",
    "\n",
    "for _ in range(m):\n",
    "    b = input()\n",
    "    if b in d:\n",
    "        print(' '.join(d[b]))\n",
    "    else: print(-1)"
   ]
  },
  {
   "cell_type": "markdown",
   "metadata": {},
   "source": [
    "# Calendar Module\n",
    "<a>Task</a> : You are given a date. Your task is to find what the day is on that date.\n",
    "\n",
    "<a>Input Format</a> : A single line of input containing the space separated month, day and year, respectively, in  <em>MM DD YYYYY</em>   format. "
   ]
  },
  {
   "cell_type": "code",
   "execution_count": 5,
   "metadata": {},
   "outputs": [
    {
     "name": "stdout",
     "output_type": "stream",
     "text": [
      "WEDNESDAY\n"
     ]
    }
   ],
   "source": [
    "import calendar\n",
    "\n",
    "m, d, y = map(int, input().split(sep=\" \"))\n",
    "\n",
    "print(calendar.day_name[calendar.weekday(year=y, month=m, day=d)].upper())"
   ]
  },
  {
   "cell_type": "markdown",
   "metadata": {},
   "source": [
    "# Exceptions\n",
    "<a>Task</a> : You are given two values <em>a</em> and <em>b</em>.\n",
    "Perform integer division and print <em>a/b</em>.\n",
    "\n",
    "<a>Input Format</a> : The first line contains <em>T</em>, the number of test cases.\n",
    "The next <em>T</em> lines each contain the space separated values of <em>a</em> and <em>b</em>.\n",
    "\n"
   ]
  },
  {
   "cell_type": "code",
   "execution_count": 6,
   "metadata": {},
   "outputs": [
    {
     "name": "stdout",
     "output_type": "stream",
     "text": [
      "5\n",
      "Error Code: invalid literal for int() with base 10: 'a'\n",
      "Error Code: integer division or modulo by zero\n"
     ]
    }
   ],
   "source": [
    "t = int(input())\n",
    "for _ in range(t):\n",
    "    try:\n",
    "        a,b = map(int, input().split(sep=\" \"))\n",
    "        print(a//b)\n",
    "    except Exception as exception:\n",
    "        print(\"Error Code:\", exception)"
   ]
  },
  {
   "cell_type": "markdown",
   "metadata": {},
   "source": [
    "# Time Delta\n",
    "<a>Task</a> : You are given two timestamps of one such post that a user can see on his newsfeed in the following format:\n",
    "\n",
    "<em>Day dd Mon yyyy hh:mm:ss +xxxx</em>\n",
    "\n",
    "Here +xxxx represents the time zone. Your task is to print the absolute difference (in seconds) between them.\n",
    "\n",
    "<a>Input Format</a> : The first line contains <em>T</em>, the number of testcases.\n",
    "Each testcase contains <em>2</em> lines, representing time <em>t1</em> and time <em>t2</em>.\n",
    "\n"
   ]
  },
  {
   "cell_type": "code",
   "execution_count": 8,
   "metadata": {},
   "outputs": [
    {
     "name": "stdout",
     "output_type": "stream",
     "text": [
      "25200\n",
      "88200\n"
     ]
    }
   ],
   "source": [
    "from datetime import datetime, timedelta\n",
    "\n",
    "# Complete the time_delta function below.\n",
    "def time_delta(t1, t2):\n",
    "    input_format = \"%a %d %b %Y %H:%M:%S %z\"\n",
    "\n",
    "    return int(abs(datetime.strptime(t1, input_format)-datetime.strptime(t2, input_format)).total_seconds())\n",
    "\n",
    "if __name__ == '__main__':\n",
    "    t = int(input())\n",
    "    for t_itr in range(t):\n",
    "        t1 = input()\n",
    "\n",
    "        t2 = input()\n",
    "\n",
    "        print(time_delta(t1, t2))\n"
   ]
  },
  {
   "cell_type": "markdown",
   "metadata": {},
   "source": [
    "# Find Angle MBC\n",
    "<a>Task</a> : You are given the lengths <em>AB</em> and <em>BC</em>.\n",
    "Your task is to find <em>MBC</em> (angle <em>Teta</em>) in degrees.\n",
    "\n",
    "<a>Input Format</a> : The first line contains the length of side <em>AB</em>.\n",
    "The second line contains the length of side <em>BC</em>.\n",
    "\n"
   ]
  },
  {
   "cell_type": "code",
   "execution_count": 10,
   "metadata": {},
   "outputs": [
    {
     "name": "stdout",
     "output_type": "stream",
     "text": [
      "37°\n"
     ]
    }
   ],
   "source": [
    "from math import atan, degrees\n",
    "\n",
    "ab = int(input())\n",
    "bc = int(input())\n",
    "\n",
    "print(str(round(degrees(atan(ab/bc)))) +u'\\N{DEGREE SIGN}')"
   ]
  },
  {
   "cell_type": "markdown",
   "metadata": {},
   "source": [
    "# No Idea!\n",
    "<a>Task</a> : There is an array of <em>n</em> integers. There are also <em>2 disjoint sets</em>, <em>A</em> and <em>B</em>, each containing <em>m</em> integers. You like all the integers in set <em>A</em> and dislike all the integers in set <em>B</em>. Your initial happiness is <em>0</em>. For each <em>i</em> integer in the array, if <em>i in A</em>, you add <em>1</em> to your happiness. If <em>i in B</em>, you add <em>-1</em> to your happiness. Otherwise, your happiness does not change. Output your final happiness at the end.\n",
    "\n",
    "Note: Since <em>A</em> and <em>B</em> are sets, they have no repeated elements. However, the array might contain duplicate elements.\n",
    "\n",
    "<a>Input Format</a> : The first line contains integers <em>n</em> and <em>m</em> separated by a space.\n",
    "The second line contains <em>n</em> integers, the elements of the array.\n",
    "The third and fourth lines contain <em>m</em> integers, <em>A</em> and <em>B</em>, respectively.\n",
    "\n"
   ]
  },
  {
   "cell_type": "code",
   "execution_count": 11,
   "metadata": {},
   "outputs": [
    {
     "name": "stdout",
     "output_type": "stream",
     "text": [
      "1\n"
     ]
    }
   ],
   "source": [
    "n,m = map(int, input().split(sep= \" \"))\n",
    "happiness = 0\n",
    "array = list(map(int, input().split(sep=\" \")))\n",
    "A = set(map(int, input().split(sep=\" \")))\n",
    "B = set(map(int, input().split(sep=\" \")))\n",
    "\n",
    "for i in array:\n",
    "    if i in A:\n",
    "        happiness +=1\n",
    "    if i in B:\n",
    "        happiness -=1\n",
    "print(happiness)"
   ]
  },
  {
   "cell_type": "markdown",
   "metadata": {},
   "source": [
    "# Incorrect Regex\n",
    "<a>Task</a> : You are given a string <em>S</em>.\n",
    "Your task is to find out whether <em>S</em> is a valid regex or not.\n",
    "\n",
    "<a>Input Format</a> : The first line contains integer <em>T</em>, the number of test cases.\n",
    "The next <em>T</em> lines contains the string <em>S</em>."
   ]
  },
  {
   "cell_type": "code",
   "execution_count": 1,
   "metadata": {},
   "outputs": [
    {
     "name": "stdout",
     "output_type": "stream",
     "text": [
      "True\n",
      "False\n"
     ]
    }
   ],
   "source": [
    "import re\n",
    "\n",
    "t = int(input())\n",
    "\n",
    "for _ in range(t):\n",
    "    pattern = str(input())\n",
    "    try:\n",
    "        re.compile(pattern)\n",
    "        print(True)\n",
    "    except Exception:\n",
    "        print(False)"
   ]
  },
  {
   "cell_type": "markdown",
   "metadata": {},
   "source": [
    "# Collections.namedtuple()\n",
    "<a>Task</a> : Dr. John Wesley has a spreadsheet containing a list of student's <em>IDs</em>, <em>marks</em>, <em>class</em> and <em>name</em>.\n",
    "\n",
    "Your task is to help Dr. Wesley calculate the average marks of the students.\n",
    "<em>AVERAGE = Sum of all marks / Total Students</em>\n",
    "\n",
    "Note:\n",
    "<li>1. Columns can be in any order. IDs, marks, class and name can be written in any order in the spreadsheet.</li>\n",
    "<li>2. Column names are ID, MARKS, CLASS and NAME. (The spelling and case type of these names won't change.)</li>\n",
    "\n",
    "<a>Input Format</a> : The first line contains an integer <em>N</em>,, the total number of students.\n",
    "The second line contains the names of the columns in any order.\n",
    "The next <em>N</em>, lines contains the <em>marks</em>, <em>IDs</em>, <em>name</em> and <em>class</em>, under their respective column names."
   ]
  },
  {
   "cell_type": "code",
   "execution_count": 2,
   "metadata": {},
   "outputs": [
    {
     "name": "stdout",
     "output_type": "stream",
     "text": [
      "78.0\n"
     ]
    }
   ],
   "source": [
    "from collections import namedtuple\n",
    "\n",
    "n = int(input())\n",
    "Student = namedtuple('Student', list(input().split()))\n",
    "sum_marks = 0\n",
    "\n",
    "for _ in range(n):\n",
    "    student = Student(*input().split())\n",
    "    sum_marks += int(student.MARKS)\n",
    "\n",
    "print(sum_marks/n)"
   ]
  },
  {
   "cell_type": "markdown",
   "metadata": {},
   "source": [
    "# Collections.OrderedDict()\n",
    "<a>Task</a> : You are the manager of a supermarket.\n",
    "You have a list of <em>N</em> items together with their prices that consumers bought on a particular day.\n",
    "Your task is to print each item_name and net_price in order of its first occurrence.\n",
    "\n",
    "item_name = Name of the item.\n",
    "\n",
    "net_price = Quantity of the item sold multiplied by the price of each item.\n",
    "\n",
    "<a>Input Format</a> : The first line contains the number of items, <em>N</em>.\n",
    "The next <em>N</em> lines contains the item's name and price, separated by a space."
   ]
  },
  {
   "cell_type": "code",
   "execution_count": 3,
   "metadata": {},
   "outputs": [
    {
     "name": "stdout",
     "output_type": "stream",
     "text": [
      "BANANA FRIES 12\n",
      "POTATO CHIPS 60\n",
      "APPLE JUICE 20\n",
      "CANDY 20\n"
     ]
    }
   ],
   "source": [
    "from collections import OrderedDict\n",
    "\n",
    "ordered_dict = OrderedDict()\n",
    "for _ in range(int(input())):\n",
    "    temp = input()\n",
    "    name = \" \".join(temp.split()[:-1])\n",
    "    price = int(temp.split()[-1])\n",
    "    if name in ordered_dict.keys():\n",
    "        ordered_dict[name] += price\n",
    "    else:\n",
    "        ordered_dict[name] = price\n",
    "\n",
    "for key, val in ordered_dict.items():\n",
    "    print(key, val)"
   ]
  },
  {
   "cell_type": "markdown",
   "metadata": {},
   "source": [
    "# Symmetric Difference\n",
    "<a>Task</a> : Given <em>2</em> sets of integers, <em>M</em> and <em>N</em>, print their symmetric difference in ascending order. The term symmetric difference indicates those values that exist in either  <em>M</em> or <em>N</em>  but do not exist in both.\n",
    "\n",
    "<a>Input Format</a> : The first line of input contains an integer, <em>M</em>.\n",
    "The second line contains <em>M</em> space-separated integers.\n",
    "The third line contains an integer, <em>N</em>.\n",
    "The fourth line contains <em>M</em> space-separated integers."
   ]
  },
  {
   "cell_type": "code",
   "execution_count": 1,
   "metadata": {},
   "outputs": [
    {
     "name": "stdout",
     "output_type": "stream",
     "text": [
      "5\n",
      "9\n",
      "11\n",
      "12\n"
     ]
    }
   ],
   "source": [
    "m = int(input()) #number of elements in first set\n",
    "m_set = set(map(int, input().split())) #first set elements\n",
    "n = int(input()) #number of elements in second set\n",
    "n_set = set(map(int, input().split())) #second set elements\n",
    "\n",
    "#values which exist in first set but not in second set\n",
    "diff_m = m_set.difference(n_set) \n",
    "\n",
    "#values which exist in second set but not in first set\n",
    "diff_n = n_set.difference(m_set) \n",
    "\n",
    "#print out symmetric difference by joining them with new line\n",
    "print(\"\\n\".join(str(i) for i in sorted(diff_m.union(diff_n))))"
   ]
  },
  {
   "cell_type": "markdown",
   "metadata": {},
   "source": [
    "# Set .add()\n",
    "<a>Task</a> : Apply your knowledge of the .add() operation to help your friend Rupal.\n",
    "\n",
    "Rupal has a huge collection of country stamps. She decided to count the total number of distinct country stamps in her collection. She asked for your help. You pick the stamps one by one from a stack of <em>N</em> country stamps.\n",
    "\n",
    "Find the total number of distinct country stamps.\n",
    "\n",
    "<a>Input Format</a> : The first line contains an integer <em>N</em>, the total number of country stamps.\n",
    "The next <em>N</em> lines contains the name of the country where the stamp is from."
   ]
  },
  {
   "cell_type": "code",
   "execution_count": 2,
   "metadata": {},
   "outputs": [
    {
     "name": "stdout",
     "output_type": "stream",
     "text": [
      "5\n"
     ]
    }
   ],
   "source": [
    "n = int(input()) #total number of stamps\n",
    "temp = set() #temporary set\n",
    "\n",
    "for _ in range(n): \n",
    "    temp.add(input()) #add every single country name to set\n",
    "\n",
    "#print out total number of country\n",
    "print(len(temp)) "
   ]
  },
  {
   "cell_type": "markdown",
   "metadata": {},
   "source": [
    "# Set .discard(), .remove() & .pop()\n",
    "<a>Task</a> : You have a non-empty set <em>s</em>, and you have to execute <em>N</em> commands given in <em>N</em> lines.\n",
    "\n",
    "The commands will be pop, remove and discard.\n",
    "\n",
    "<a>Input Format</a> : The first line contains integer <em>n</em>, the number of elements in the set <em>s</em>.\n",
    "The second line contains <em>n</em> space separated elements of set <em>s</em>. All of the elements are non-negative integers, less than or equal to 9.\n",
    "The third line contains integer <em>N</em>, the number of commands.\n",
    "The next <em>N</em> lines contains either pop, remove and/or discard commands followed by their associated value."
   ]
  },
  {
   "cell_type": "code",
   "execution_count": 3,
   "metadata": {},
   "outputs": [
    {
     "name": "stdout",
     "output_type": "stream",
     "text": [
      "18\n"
     ]
    }
   ],
   "source": [
    "n = int(input()) #number of elements in the set s\n",
    "s = set(map(int, input().split())) #space separated elements of set\n",
    "\n",
    "#loop in range number of commands\n",
    "for _ in range(int(input())): \n",
    "    temp = input() #assign input a temporary variable\n",
    "    command = temp.split()[0] #assign command to variable \n",
    "    #if the command is not \"pop\" get associated value and execute the command\n",
    "    if command != \"pop\":\n",
    "        value = int(temp.split()[-1])\n",
    "        eval('s.{0}({1})'.format(command, value)) #eval() function is new for me, it is useful to dynamically evaluate expressions \n",
    "    else:\n",
    "        eval('s.{0}()'.format(command)) #pop command only\n",
    "\n",
    "#print out sum of the set, after completing all operations on the set \n",
    "print(sum(s))"
   ]
  },
  {
   "cell_type": "markdown",
   "metadata": {},
   "source": [
    "# Set .union() Operation\n",
    "<a>Task</a> : The students of District College have subscriptions to English and French newspapers. Some students have subscribed only to English, some have subscribed to only French and some have subscribed to both newspapers.\n",
    "\n",
    "You are given two sets of student roll numbers. One set has subscribed to the English newspaper, and the other set is subscribed to the French newspaper. The same student could be in both sets. Your task is to find the total number of students who have subscribed to at least one newspaper.\n",
    "\n",
    "<a>Input Format</a> : The first line contains an integer,<em>n</em>, the number of students who have subscribed to the English newspaper.\n",
    "\n",
    "The second line contains <em>n</em> space separated roll numbers of those students.\n",
    "\n",
    "The third line contains <em>b</em>, the number of students who have subscribed to the French newspaper.\n",
    "\n",
    "The fourth line contains <em>b</em> space separated roll numbers of those students."
   ]
  },
  {
   "cell_type": "code",
   "execution_count": 4,
   "metadata": {},
   "outputs": [
    {
     "name": "stdout",
     "output_type": "stream",
     "text": [
      "8\n"
     ]
    }
   ],
   "source": [
    "n = int(input()) #number of student who have subscribed to the English newspaper\n",
    "set_n = set(map(int, input().split())) #roll numbers of those students\n",
    "b = int(input()) #number of student who have subscribed to the French newspaper\n",
    "set_b = set(map(int, input().split())) #roll numbers of those students\n",
    "\n",
    "#print out total number of students who have subscribed to at least one newspaper\n",
    "print(len(set_n.union(set_b)))"
   ]
  },
  {
   "cell_type": "markdown",
   "metadata": {},
   "source": [
    "# Set .intersection() Operation\n",
    "<a>Task</a> : The students of District College have subscriptions to English and French newspapers. Some students have subscribed only to English, some have subscribed only to French, and some have subscribed to both newspapers.\n",
    "\n",
    "You are given two sets of student roll numbers. One set has subscribed to the English newspaper, one set has subscribed to the French newspaper. Your task is to find the total number of students who have subscribed to both newspapers.\n",
    "\n",
    "<a>Input Format</a> : The first line contains an integer,<em>n</em>, the number of students who have subscribed to the English newspaper.\n",
    "\n",
    "The second line contains <em>n</em> space separated roll numbers of those students.\n",
    "\n",
    "The third line contains <em>b</em>, the number of students who have subscribed to the French newspaper.\n",
    "\n",
    "The fourth line contains <em>b</em> space separated roll numbers of those students."
   ]
  },
  {
   "cell_type": "code",
   "execution_count": 5,
   "metadata": {},
   "outputs": [
    {
     "name": "stdout",
     "output_type": "stream",
     "text": [
      "6\n"
     ]
    }
   ],
   "source": [
    "n = int(input()) #number of student who have subscribed to the English newspaper\n",
    "set_n = set(map(int, input().split())) #roll numbers of those students\n",
    "b = int(input()) #number of student who have subscribed to the French newspaper\n",
    "set_b = set(map(int, input().split())) #roll numbers of those students\n",
    "\n",
    "#print out total number of students who have subscribed to both newspaper\n",
    "print(len(set_n.intersection(set_b)))"
   ]
  },
  {
   "cell_type": "markdown",
   "metadata": {},
   "source": [
    "# Set .difference() Operation\n",
    "<a>Task</a> : The students of District College have subscriptions to English and French newspapers. Some students have subscribed only to English, some have subscribed only to French, and some have subscribed to both newspapers.\n",
    "\n",
    "You are given two sets of student roll numbers. One set has subscribed to the English newspaper, and one set has subscribed to the French newspaper. Your task is to find the total number of students who have subscribed to only English newspapers.\n",
    "\n",
    "<a>Input Format</a> : The first line contains an integer,<em>n</em>, the number of students who have subscribed to the English newspaper.\n",
    "\n",
    "The second line contains <em>n</em> space separated roll numbers who have subscribed to the English newspaper.\n",
    "\n",
    "The third line contains <em>b</em>, the number of students who have subscribed to the French newspaper.\n",
    "\n",
    "The fourth line contains <em>b</em> space separated roll numbers who have subscribed to the French newspaper."
   ]
  },
  {
   "cell_type": "code",
   "execution_count": 6,
   "metadata": {},
   "outputs": [
    {
     "name": "stdout",
     "output_type": "stream",
     "text": [
      "0\n"
     ]
    }
   ],
   "source": [
    "n = int(input()) #number of student who have subscribed to the English newspaper\n",
    "set_n = set(map(int, input().split())) #roll numbers of those students\n",
    "b = int(input()) #number of student who have subscribed to the French newspaper\n",
    "set_b = set(map(int, input().split())) #roll numbers of those students\n",
    "\n",
    "#print out total number of students who have subscribed to only English newspapers. \n",
    "print(len(set_n.difference(set_b)))"
   ]
  },
  {
   "cell_type": "markdown",
   "metadata": {},
   "source": [
    "# Set .symmetric_difference() Operation\n",
    "<a>Task</a> : The students of District College have subscriptions to English and French newspapers. Some students have subscribed only to English, some have subscribed only to French, and some have subscribed to both newspapers.\n",
    "\n",
    "You are given two sets of student roll numbers. One set has subscribed to the English newspaper, and one set has subscribed to the French newspaper. Your task is to find the total number of students who have subscribed to either the English or the French newspaper but not both.\n",
    "\n",
    "<a>Input Format</a> : The first line contains an integer,<em>n</em>, the number of students who have subscribed to the English newspaper.\n",
    "\n",
    "The second line contains <em>n</em> space separated roll numbers who have subscribed to the English newspaper.\n",
    "\n",
    "The third line contains <em>b</em>, the number of students who have subscribed to the French newspaper.\n",
    "\n",
    "The fourth line contains <em>b</em> space separated roll numbers who have subscribed to the French newspaper."
   ]
  },
  {
   "cell_type": "code",
   "execution_count": 7,
   "metadata": {},
   "outputs": [
    {
     "name": "stdout",
     "output_type": "stream",
     "text": [
      "4\n"
     ]
    }
   ],
   "source": [
    "n = int(input()) #number of student who have subscribed to the English newspaper\n",
    "set_n = set(map(int, input().split())) #roll numbers of those students\n",
    "b = int(input()) #number of student who have subscribed to the French newspaper\n",
    "set_b = set(map(int, input().split())) #roll numbers of those students\n",
    "\n",
    "#print out total number of students who have subscribed to either the English or the French newspaper but not both\n",
    "print(len(set_n.symmetric_difference(set_b)))"
   ]
  },
  {
   "cell_type": "markdown",
   "metadata": {},
   "source": [
    "# Set Mutations\n",
    "<a>Task</a> : You are given a set <em>A</em> and <em>N</em> number of other sets. These <em>N</em> number of sets have to perform some specific mutation operations on set <em>A</em>.\n",
    "\n",
    "Your task is to execute those operations and print the sum of elements from set <em>A</em>.\n",
    "\n",
    "<a>Input Format</a> : The first line contains the number of elements in set <em>A</em>.\n",
    "The second line contains the space separated list of elements in set <em>A</em>.\n",
    "\n",
    "The third line contains integer <em>N</em>, the number of other sets.\n",
    "\n",
    "The next <em>2 * N</em> lines are divided into <em>N</em> parts containing two lines each.\n",
    "\n",
    "The first line of each part contains the space separated entries of the operation name and the length of the other set.\n",
    "\n",
    "The second line of each part contains space separated list of elements in the other set."
   ]
  },
  {
   "cell_type": "code",
   "execution_count": 8,
   "metadata": {},
   "outputs": [
    {
     "name": "stdout",
     "output_type": "stream",
     "text": [
      "38\n"
     ]
    }
   ],
   "source": [
    "n = int(input()) #number of elements in the set A\n",
    "A = set(map(int, input().split())) #space separated elements of set\n",
    "\n",
    "#loop in range number of commands\n",
    "for _ in range(int(input())): \n",
    "    command = input().split()[0] #assign command to variable, size of upcoming set is meaningless\n",
    "    temp_set =  set(map(int, input().split())) #assign inputted set to a temporary variable\n",
    "    eval('A.{0}({1})'.format(command, temp_set)) #dynamically evaluate expressions \n",
    "\n",
    "#print out sum of the set, after completing all operations on the set \n",
    "print(sum(A))"
   ]
  },
  {
   "cell_type": "markdown",
   "metadata": {},
   "source": [
    "# The Captain's Room\n",
    "<a>Task</a> : Mr. Anant has an unordered list of randomly arranged room entries. The list consists of the room numbers for all of the tourists. The room numbers will appear <em>K</em> times per group except for the Captain's room.\n",
    "\n",
    "Mr. Anant needs you to help him find the Captain's room number.\n",
    "The total number of tourists or the total number of groups of families is not known to you.\n",
    "You only know the value of <em>K</em> and the room number list.\n",
    "\n",
    "<a>Input Format</a> : The first line consists of an integer, <em>K</em>, the size of each group.\n",
    "The second line contains the unordered elements of the room number list.\n"
   ]
  },
  {
   "cell_type": "code",
   "execution_count": 11,
   "metadata": {},
   "outputs": [
    {
     "name": "stdout",
     "output_type": "stream",
     "text": [
      "8\n"
     ]
    }
   ],
   "source": [
    "#have found this solution on discussions, it has far better time complexity than my solution\n",
    "\n",
    "k = int(input()) #group size\n",
    "rooms = list(map(int, input().split())) #unordered elements of the room numbers\n",
    "myset = set(rooms) #create set from rooms list\n",
    "\n",
    "#basically \"k times sum of individual room numbers\" difference \"sum of 1 times captain's room and k times other room numbers\" / k-1\n",
    "print(((sum(myset) * k) - sum(rooms))//(k-1))"
   ]
  },
  {
   "cell_type": "markdown",
   "metadata": {},
   "source": [
    "# Python Evaluation\n",
    "<a>Task</a> :You are given an expression in a line. Read that line as a string variable, such as var, and print the result using eval(var).\n",
    "\n",
    "<a>Sample Input</a> : print(2 + 3)\n"
   ]
  },
  {
   "cell_type": "code",
   "execution_count": 1,
   "metadata": {},
   "outputs": [
    {
     "name": "stdout",
     "output_type": "stream",
     "text": [
      "7\n"
     ]
    }
   ],
   "source": [
    "var = input()   #input expression\n",
    "eval(var)   #evaluate expression"
   ]
  },
  {
   "cell_type": "markdown",
   "metadata": {},
   "source": [
    "# Athlete Sort\n",
    "<a>Task</a> : You are given a spreadsheet that contains a list of <em>N</em> athletes and their details (such as age, height, weight and so on). You are required to sort the data based on the <em>K</em>th attribute and print the final resulting table.\n",
    "\n",
    "<a>Input Format</a> : The first line contains <em>N</em> and <em>M</em> separated by a space.\n",
    "The next <em>N</em> lines each contain <em>M</em> elements.\n",
    "The last line contains <em>K</em>.\n"
   ]
  },
  {
   "cell_type": "code",
   "execution_count": 2,
   "metadata": {},
   "outputs": [
    {
     "name": "stdout",
     "output_type": "stream",
     "text": [
      "7 1 0\n",
      "10 2 5\n",
      "6 5 9\n",
      "9 9 9\n",
      "1 23 12\n"
     ]
    }
   ],
   "source": [
    "if __name__ == '__main__':\n",
    "    nm = input().split()\n",
    "\n",
    "    n = int(nm[0])\n",
    "\n",
    "    m = int(nm[1])\n",
    "\n",
    "    arr = []\n",
    "\n",
    "    for _ in range(n):\n",
    "        arr.append(list(map(int, input().rstrip().split())))\n",
    "\n",
    "    k = int(input())\n",
    "    #until here code was already added  \n",
    "\n",
    "    arr.sort(key=lambda row: (row[k]))  #sort the list based on Kth attribute \n",
    "    for rows in (arr):\n",
    "        print(*rows)    #print rows in the list"
   ]
  },
  {
   "cell_type": "markdown",
   "metadata": {},
   "source": [
    "# Any or All\n",
    "<a>Task</a> : You are given a space separated list of integers. If all the integers are positive, then you need to check if any integer is a palindromic integer.\n",
    "\n",
    "<a>Input Format</a> : The first line contains an integer <em>N</em>. <em>N</em> is the total number of integers in the list.\n",
    "The second line contains the space separated list of <em>N</em> integers."
   ]
  },
  {
   "cell_type": "code",
   "execution_count": 4,
   "metadata": {},
   "outputs": [
    {
     "name": "stdout",
     "output_type": "stream",
     "text": [
      "True\n",
      "9 9\n",
      "5 5\n"
     ]
    }
   ],
   "source": [
    "n = int(input())    #total number of integers in list\n",
    "arr = list(input().split()) #list of integers\n",
    "\n",
    "#print true if (all elements are positive) and (any of elements are palindromic integer)\n",
    "print(all([int(i)>0 for i in arr]) and any([j == j[::-1] for j in arr]))\n",
    "#palindromic integer means that an integer equals to reverse of itself e.g., 151, 2002, 5 etc."
   ]
  },
  {
   "cell_type": "markdown",
   "metadata": {},
   "source": [
    "# ginortS\n",
    "<a>Task</a> : Your task is to sort the string <em>S</em> in the following manner:\n",
    "\n",
    "<li>All sorted lowercase letters are ahead of uppercase letters.</li>\n",
    "<li>All sorted uppercase letters are ahead of digits.</li>\n",
    "<li>All sorted odd digits are ahead of sorted even digits.</li>\n",
    "\n",
    "<a>Input Format</a> : A single line of input contains the string <em>S</em>."
   ]
  },
  {
   "cell_type": "code",
   "execution_count": 6,
   "metadata": {},
   "outputs": [
    {
     "name": "stdout",
     "output_type": "stream",
     "text": [
      "ginortS1324\n"
     ]
    }
   ],
   "source": [
    "s = input() #input string\n",
    "lower, upper, even, odd = [],[],[],[]   #list method preferred to solve problem\n",
    "\n",
    "for i in s:\n",
    "    if i.isalpha(): #if the element is a letter\n",
    "        lower.append(i) if i.islower() else upper.append(i) #if i is a lowercase letter then append it to lower list, and vice versa\n",
    "    elif i.isdigit():   #if the element is a digit\n",
    "        even.append(i) if int(i) % 2 ==0 else odd.append(i) #if i is a even integer then append it to even list, and vice versa\n",
    "\n",
    "#print out all lists in proper sort\n",
    "print(*sorted(lower), *sorted(upper), *sorted(odd), *sorted(even), sep=\"\")"
   ]
  },
  {
   "cell_type": "markdown",
   "metadata": {},
   "source": [
    "# Shape and Reshape\n",
    "<a>Task</a> : You are given a space separated list of nine integers. Your task is to convert this list into a <em>3 X 3</em> NumPy array.\n",
    "\n",
    "<a>Input Format</a> : A single line of input containing  <em>9</em> space separated integers."
   ]
  },
  {
   "cell_type": "code",
   "execution_count": 7,
   "metadata": {},
   "outputs": [
    {
     "name": "stdout",
     "output_type": "stream",
     "text": [
      "[[1 2 3]\n",
      " [4 5 6]\n",
      " [7 8 9]]\n"
     ]
    }
   ],
   "source": [
    "import numpy as np\n",
    "\n",
    "arr = np.array(input().split(), int)     #convert input into numpy array\n",
    "\n",
    "print(np.reshape(arr,(3,3)))    #reshape the array and print it out"
   ]
  },
  {
   "cell_type": "markdown",
   "metadata": {},
   "source": [
    "# Transpose and Flatten\n",
    "<a>Task</a> : You are given a <em>N</em>x<em>M</em> integer array matrix with space separated elements (<em>N</em>= rows and  <em>M</em>= columns).\n",
    "Your task is to print the transpose and flatten results.\n",
    "\n",
    "<a>Input Format</a> : The first line contains the space separated values of <em>N</em> and <em>M</em>.\n",
    "The next <em>N</em> lines contains the space separated elements of <em>M</em> columns."
   ]
  },
  {
   "cell_type": "code",
   "execution_count": 8,
   "metadata": {},
   "outputs": [
    {
     "name": "stdout",
     "output_type": "stream",
     "text": [
      "[[1 3]\n",
      " [2 4]]\n",
      "[1 2 3 4]\n"
     ]
    }
   ],
   "source": [
    "import numpy as np\n",
    "\n",
    "n,m = map(int, input().split()) #input row and col numbers\n",
    "arr = []    #list method preferred to solve problem\n",
    "for _ in range(n):\n",
    "    arr.append(list(input().split()))   #append inputs as rows\n",
    "arr = np.asarray_chkfinite(arr,int)     #convert list to numpy array\n",
    "\n",
    "#print out transpose and flatten of array\n",
    "print(np.transpose(arr), arr.flatten(), sep=\"\\n\")"
   ]
  },
  {
   "cell_type": "markdown",
   "metadata": {},
   "source": [
    "# Concatenate\n",
    "<a>Task</a> : You are given two integer arrays of size <em>N</em>x<em>P</em> and <em>M</em>x<em>P</em> (<em>N</em> & <em>M</em> are rows, and <em>P</em> is the column). Your task is to concatenate the arrays along axis <em>0</em>.\n",
    "\n",
    "<a>Input Format</a> : The first line contains space separated integers <em>N</em>, <em>M</em> and <em>P</em>.\n",
    "The next <em>N</em> lines contains the space separated elements of the <em>P</em> columns.\n",
    "After that, the next <em>M</em> lines contains the space separated elements of the <em>P</em> columns."
   ]
  },
  {
   "cell_type": "code",
   "execution_count": null,
   "metadata": {},
   "outputs": [],
   "source": [
    "import numpy as np\n",
    "\n",
    "n,m,p = map(int, input().split())\n",
    "arr1, arr2 = [],[]\n",
    "\n",
    "for _ in range(n):\n",
    "    arr1.append(list(input().split()))\n",
    "for _ in range(m):\n",
    "    arr2.append(list(input().split()))\n",
    "\n",
    "print(np.concatenate((np.asarray_chkfinite(arr1, int), np.asarray_chkfinite(arr2, int)), axis=0))"
   ]
  },
  {
   "cell_type": "markdown",
   "metadata": {},
   "source": [
    "# Zeros and Ones\n",
    "<a>Task</a> : You are given the shape of the array in the form of space-separated integers, each integer representing the size of different dimensions, your task is to print an array of the given shape and integer type using the tools numpy.zeros and numpy.ones.\n",
    "\n",
    "<a>Input Format</a> : A single line containing the space-separated integers."
   ]
  },
  {
   "cell_type": "code",
   "execution_count": 1,
   "metadata": {},
   "outputs": [
    {
     "name": "stdout",
     "output_type": "stream",
     "text": [
      "[[[0 0 0]\n",
      "  [0 0 0]\n",
      "  [0 0 0]]\n",
      "\n",
      " [[0 0 0]\n",
      "  [0 0 0]\n",
      "  [0 0 0]]\n",
      "\n",
      " [[0 0 0]\n",
      "  [0 0 0]\n",
      "  [0 0 0]]]\n",
      "[[[1 1 1]\n",
      "  [1 1 1]\n",
      "  [1 1 1]]\n",
      "\n",
      " [[1 1 1]\n",
      "  [1 1 1]\n",
      "  [1 1 1]]\n",
      "\n",
      " [[1 1 1]\n",
      "  [1 1 1]\n",
      "  [1 1 1]]]\n"
     ]
    }
   ],
   "source": [
    "import numpy as np\n",
    "\n",
    "arr = tuple(map(int, input().split())) #creadting tuple from input\n",
    "\n",
    "print(np.zeros((arr),dtype=int)) #printing out zeros\n",
    "print(np.ones((arr),dtype=int)) #printing out ones"
   ]
  },
  {
   "cell_type": "markdown",
   "metadata": {},
   "source": [
    "# Eye and Identity\n",
    "<a>Task</a> : Your task is to print an array of size <em>N</em>x<em>M</em> with its main diagonal elements as <em>1</em>'s and <em>0</em>'s everywhere else.\n",
    "\n",
    "<a>Input Format</a> : A single line containing the space separated values of <em>N</em> and <em>M</em>.\n",
    "\n",
    "<em>N</em> denotes the rows.\n",
    "\n",
    "<em>M</em> denotes the columns."
   ]
  },
  {
   "cell_type": "code",
   "execution_count": 2,
   "metadata": {},
   "outputs": [
    {
     "name": "stdout",
     "output_type": "stream",
     "text": [
      "[[ 1.  0.  0.  0.  0.  0.]\n",
      " [ 0.  1.  0.  0.  0.  0.]\n",
      " [ 0.  0.  1.  0.  0.  0.]\n",
      " [ 0.  0.  0.  1.  0.  0.]\n",
      " [ 0.  0.  0.  0.  1.  0.]\n",
      " [ 0.  0.  0.  0.  0.  1.]\n",
      " [ 0.  0.  0.  0.  0.  0.]\n",
      " [ 0.  0.  0.  0.  0.  0.]]\n"
     ]
    }
   ],
   "source": [
    "import numpy as np\n",
    "np.set_printoptions(legacy = \"1.13\") #this line suggested at problem description\n",
    "\n",
    "n,m = map(int, input().split()) #getting input\n",
    "print(np.eye(n,m)) #print array size of NxM with main diagonal elements are 1"
   ]
  },
  {
   "cell_type": "markdown",
   "metadata": {},
   "source": [
    "# Array Mathematics\n",
    "<a>Task</a> : You are given two integer arrays, <em>A</em> and <em>B</em> of dimensions <em>N</em>x<em>M</em>.\n",
    "Your task is to perform the following operations:\n",
    "\n",
    "<li>Add (<em>A</em> + <em>B</em>)</li>\n",
    "<li>Subtract (<em>A</em> - <em>B</em>)</li>\n",
    "<li>Multiply (<em>A</em> * <em>B</em>)</li>\n",
    "<li>Integer Division (<em>A</em> / <em>B</em>)</li>\n",
    "<li>Mod (<em>A</em> % <em>B</em>)</li>\n",
    "<li>Power (<em>A</em> ** <em>B</em>)</li>\n",
    "\n",
    "<a>Input Format</a> : The first line contains two space separated integers, <em>N</em> and <em>M</em>.\n",
    "The next <em>N</em> lines contains <em>M</em> space separated integers of array <em>A</em>.\n",
    "The following <em>N</em> lines contains <em>M</em> space separated integers of array <em>B</em>."
   ]
  },
  {
   "cell_type": "code",
   "execution_count": 1,
   "metadata": {},
   "outputs": [
    {
     "name": "stdout",
     "output_type": "stream",
     "text": [
      "[[ 6  8 10 12]]\n",
      "[[-4 -4 -4 -4]]\n",
      "[[ 5 12 21 32]]\n",
      "[[0 0 0 0]]\n",
      "[[1 2 3 4]]\n",
      "[[    1    64  2187 65536]]\n"
     ]
    }
   ],
   "source": [
    "import numpy as np\n",
    "n,m = map(int, input().split()) #inputs of dimensions N x M \n",
    "a = np.array([input().split() for _ in range(n)], int)  #array A\n",
    "b = np.array([input().split() for _ in range(n)], int)  #array B\n",
    "\n",
    "#print out the results of operations\n",
    "print(np.add(a,b), np.subtract(a,b), np.multiply(a,b), np.floor_divide(a,b), np.mod(a,b), np.power(a,b), sep= \"\\n\")"
   ]
  },
  {
   "cell_type": "markdown",
   "metadata": {},
   "source": [
    "# Floor, Ceil and Rint\n",
    "<a>Task</a> : You are given a 1-D array, <em>A</em>. Your task is to print the <em>floor</em>, <em>ceil</em> and <em>rint</em> of all the elements of <em>A</em>.\n",
    "\n",
    "<a>Input Format</a> : A single line of input containing the space separated elements of array <em>A</em>."
   ]
  },
  {
   "cell_type": "code",
   "execution_count": 2,
   "metadata": {},
   "outputs": [
    {
     "name": "stdout",
     "output_type": "stream",
     "text": [
      "[ 1.  2.  3.  4.  5.  6.  7.  8.  9.]\n",
      "[  2.   3.   4.   5.   6.   7.   8.   9.  10.]\n",
      "[  1.   2.   3.   4.   6.   7.   8.   9.  10.]\n"
     ]
    }
   ],
   "source": [
    "import numpy as np\n",
    "\n",
    "np.set_printoptions(legacy=\"1.13\")  #recommended print options at problem description\n",
    "\n",
    "a = np.array(input().split(), float)    #array A\n",
    "\n",
    "#print out the floor, ceil and rint of array A\n",
    "print(np.floor(a), np.ceil(a), np.rint(a), sep=\"\\n\")"
   ]
  },
  {
   "cell_type": "markdown",
   "metadata": {},
   "source": [
    "# Sum and Prod\n",
    "<a>Task</a> : You are given a 2-D array with dimensions <em>N</em>x<em>M</em>.\n",
    "Your task is to perform the <em>sum</em> tool over axis <em>0</em> and then find the <em>product</em> of that result.\n",
    "\n",
    "<a>Input Format</a> : The first line of input contains space separated values of <em>N</em> and <em>M</em>.\n",
    "The next <em>N</em> lines contains <em>M</em> space separated integers."
   ]
  },
  {
   "cell_type": "code",
   "execution_count": 3,
   "metadata": {},
   "outputs": [
    {
     "name": "stdout",
     "output_type": "stream",
     "text": [
      "24\n"
     ]
    }
   ],
   "source": [
    "import numpy as np\n",
    "\n",
    "n, m = map(int, input().split()) #input of dimensions N x M\n",
    "a = np.array(list(input().split() for _ in range(n)), int) #input array\n",
    "\n",
    "#print out result of sum and product operations\n",
    "print(np.prod(np.sum(a, axis=0), axis=None))"
   ]
  },
  {
   "cell_type": "markdown",
   "metadata": {},
   "source": [
    "# Min and Max\n",
    "<a>Task</a> : You are given a 2-D array with dimensions <em>N</em>x<em>M</em>.\n",
    "Your task is to perform the min function over axis <em>1</em> and then find the max of that.\n",
    "\n",
    "<a>Input Format</a> : The first line of input contains the space separated values of <em>N</em> and <em>M</em>.\n",
    "The next <em>N</em> lines contains <em>M</em> space separated integers."
   ]
  },
  {
   "cell_type": "code",
   "execution_count": 4,
   "metadata": {},
   "outputs": [
    {
     "name": "stdout",
     "output_type": "stream",
     "text": [
      "3\n"
     ]
    }
   ],
   "source": [
    "import numpy as np\n",
    "\n",
    "n,m = map(int, input().split()) #input of dimensions N x M\n",
    "\n",
    "a = np.array(list(input().split() for _ in range(n)), int) #input array A\n",
    "\n",
    "#print out the max value of mins for axis=1\n",
    "print(np.max(np.min(a, axis=1), axis=None), sep=\"\\n\") \n"
   ]
  },
  {
   "cell_type": "markdown",
   "metadata": {},
   "source": [
    "# Mean, Var, and Std\n",
    "<a>Task</a> : You are given a 2-D array of size <em>N</em>x<em>M</em>.\n",
    "Your task is to find:\n",
    "\n",
    "<li>The mean along axis <em>1</em> </li>\n",
    "<li>The var along axis <em>0</em></li>\n",
    "<li>The std along axis <em>None</em></li>\n",
    "\n",
    "<a>Input Format</a> : The first line contains the space separated values of <em>N</em> and <em>M</em>.\n",
    "The next <em>N</em> lines contains <em>M</em> space separated integers."
   ]
  },
  {
   "cell_type": "code",
   "execution_count": 5,
   "metadata": {},
   "outputs": [
    {
     "name": "stdout",
     "output_type": "stream",
     "text": [
      "[ 1.5  3.5  5.5  7.5]\n",
      "[ 5.  5.]\n",
      "2.29128784748\n"
     ]
    }
   ],
   "source": [
    "import numpy as np\n",
    "\n",
    "n,m = map(int, input().split()) #input of dimensions N x M\n",
    "a = np.array(list(input().split() for _ in range(n)), int) #array A\n",
    "\n",
    "#print out the mean, variance and standart daviation of array A\n",
    "print(np.mean(a, axis=1), np.var(a, axis=0), np.std(a, axis=None),sep=\"\\n\")"
   ]
  },
  {
   "cell_type": "markdown",
   "metadata": {},
   "source": [
    "# Dot and Cross\n",
    "<a>Task</a> : You are given two arrays <em>A</em> and <em>B</em>. Both have dimensions of <em>N</em>x<em>N</em>.\n",
    "Your task is to compute their matrix product.\n",
    "\n",
    "<a>Input Format</a> : The first line contains the integer <em>N</em>.\n",
    "The next <em>N</em> lines contains <em>N</em> space separated integers of array <em>A</em>.\n",
    "The following <em>N</em> lines contains <em>N</em> space separated integers of array <em>B</em>."
   ]
  },
  {
   "cell_type": "code",
   "execution_count": 6,
   "metadata": {},
   "outputs": [
    {
     "name": "stdout",
     "output_type": "stream",
     "text": [
      "[[19 22]\n",
      " [43 50]]\n"
     ]
    }
   ],
   "source": [
    "import numpy as np\n",
    "\n",
    "n = int(input()) #input of dimensions N x N\n",
    "a = np.array(list(input().split() for _ in range(n)), int) #input array A\n",
    "b = np.array(list(input().split() for _ in range(n)), int) #input array B\n",
    "\n",
    "#matrix product of A and B, in other words dot product \n",
    "print(np.dot(a,b))"
   ]
  },
  {
   "cell_type": "markdown",
   "metadata": {},
   "source": [
    "# Inner and Outer\n",
    "<a>Task</a> : You are given two arrays: <em>A</em> and <em>B</em>.\n",
    "Your task is to compute their inner and outer product.\n",
    "\n",
    "<a>Input Format</a> : The first line contains the space separated elements of array <em>A</em>.\n",
    "The second line contains the space separated elements of array <em>B</em>."
   ]
  },
  {
   "cell_type": "code",
   "execution_count": 7,
   "metadata": {},
   "outputs": [
    {
     "name": "stdout",
     "output_type": "stream",
     "text": [
      "5\n",
      "[[1 2]\n",
      " [2 4]]\n"
     ]
    }
   ],
   "source": [
    "import numpy as np\n",
    "\n",
    "a = np.array(list(input().split()), int) #input array A\n",
    "b = np.array(list(input().split()), int) #input array B\n",
    "\n",
    "#print out inner and outer product of A and B\n",
    "print(np.inner(a,b), np.outer(a,b), sep=\"\\n\")\n"
   ]
  },
  {
   "cell_type": "markdown",
   "metadata": {},
   "source": [
    "# Linear Algebra\n",
    "<a>Task</a> : You are given a square matrix <em>A</em> with dimensions <em>N</em>x<em>N</em>. Your task is to find the determinant. Note: Round the answer to 2 places after the decimal.\n",
    "\n",
    "<a>Input Format</a> : The first line contains the integer <em>N</em>.\n",
    "The next <em>N</em> lines contains the <em>N</em> space separated elements of array <em>A</em>."
   ]
  },
  {
   "cell_type": "code",
   "execution_count": 9,
   "metadata": {},
   "outputs": [
    {
     "name": "stdout",
     "output_type": "stream",
     "text": [
      "0.0\n"
     ]
    }
   ],
   "source": [
    "import numpy as np\n",
    "\n",
    "n = int(input()) #input of dimensions N x N\n",
    "a = np.array(list(input().split() for _ in range(n)), float) #input array A\n",
    "\n",
    "#print out determinant of A\n",
    "print(round(np.linalg.det(a),2))"
   ]
  },
  {
   "cell_type": "markdown",
   "metadata": {},
   "source": [
    "# Arrays\n",
    "<a>Task</a> : You are given a space separated list of numbers.\n",
    "Your task is to print a reversed NumPy array with the element type float.\n",
    "\n",
    "<a>Input Format</a> : A single line of input containing space separated numbers."
   ]
  },
  {
   "cell_type": "code",
   "execution_count": 10,
   "metadata": {},
   "outputs": [
    {
     "name": "stdout",
     "output_type": "stream",
     "text": [
      "[-10.  -8.   4.   3.   2.   1.]\n"
     ]
    }
   ],
   "source": [
    "import numpy\n",
    "\n",
    "def arrays(arr):\n",
    "    # complete this function\n",
    "    # use numpy.array\n",
    "    return numpy.array(arr[::-1], float)\n",
    "arr = input().strip().split(' ')\n",
    "result = arrays(arr)\n",
    "print(result)"
   ]
  },
  {
   "cell_type": "markdown",
   "metadata": {},
   "source": [
    "# itertools.product()\n",
    "<a>Task</a> : You are given a two lists <em>A</em> and <em>B</em>. Your task is to compute their cartesian product <em>A</em>x<em>B</em>.\n",
    "\n",
    "<a>Input Format</a> : The first line contains the space separated elements of list <em>A</em>.\n",
    "The second line contains the space separated elements of list <em>B</em>.\n",
    "\n",
    "Both lists have no duplicate integer elements."
   ]
  },
  {
   "cell_type": "code",
   "execution_count": 11,
   "metadata": {},
   "outputs": [
    {
     "name": "stdout",
     "output_type": "stream",
     "text": [
      "(1, 3) (1, 4) (2, 3) (2, 4)\n"
     ]
    }
   ],
   "source": [
    "from itertools import product\n",
    "\n",
    "a = list(map(int, input().split())) #input list A\n",
    "b = list(map(int, input().split())) #input list B\n",
    "\n",
    "#print out AxB\n",
    "print(*(product(a,b)))"
   ]
  },
  {
   "cell_type": "markdown",
   "metadata": {},
   "source": [
    "# Re.findall() & Re.finditer()\n",
    "<a>Task</a> : You are given a string <em>S</em>. It consists of alphanumeric characters, spaces and symbols(+,-).\n",
    "Your task is to find all the substrings of <em>S</em> that contains <em>2</em> or more vowels.\n",
    "Also, these substrings must lie in between <em>2</em> consonants and should contain vowels only.\n",
    "\n",
    "<a>Input Format</a> : A single line of input containing string <em>S</em>."
   ]
  },
  {
   "cell_type": "code",
   "execution_count": 12,
   "metadata": {},
   "outputs": [
    {
     "name": "stdout",
     "output_type": "stream",
     "text": [
      "ee\n",
      "Ioo\n",
      "Oeo\n",
      "eeeee\n"
     ]
    }
   ],
   "source": [
    "import re\n",
    "#defining vowels and consonants\n",
    "vowels = \"aeiou\"\n",
    "consonants = \"qwrtypsdfghjklzxcvbnm\"\n",
    "s = input() #input string \n",
    "\n",
    "#find the substrings which matches with regex \n",
    "sub = re.findall(r\"(?<=[%s])([%s]{2,})[%s]\" % (consonants, vowels,consonants), s, flags=re.I)\n",
    "\n",
    "# description of (?<=...)  Matches if the current position in the string is preceded by a match for ... that ends at the current position. \n",
    "# This is called a positive lookbehind assertion.\n",
    "\n",
    "print(\"\\n\".join(sub or ['-1']))"
   ]
  },
  {
   "cell_type": "markdown",
   "metadata": {},
   "source": [
    "# Re.start() & Re.end()\n",
    "<a>Task</a> : You are given a string <em>S</em>.\n",
    "Your task is to find the indices of the start and end of string <em>k</em> in <em>S</em>.\n",
    "\n",
    "<a>Input Format</a> : The first line contains the string <em>S</em>.\n",
    "The second line contains the string <em>k</em>."
   ]
  },
  {
   "cell_type": "code",
   "execution_count": 13,
   "metadata": {},
   "outputs": [
    {
     "name": "stdout",
     "output_type": "stream",
     "text": [
      "(0, 1)\n",
      "(1, 2)\n",
      "(4, 5)\n"
     ]
    }
   ],
   "source": [
    "#couldn't solve the problem and checked discussions for answer\n",
    "import re\n",
    "\n",
    "s = input()\n",
    "k = input()\n",
    "pattern = re.compile(k)\n",
    "r = pattern.search(s)\n",
    "\n",
    "if not r: print(\"(-1, -1)\")\n",
    "while r:\n",
    "    print(\"({0}, {1})\".format(r.start(), r.end() - 1))\n",
    "    r = pattern.search(s,r.start() + 1)\n",
    "\n",
    "# Basically, Python’s re.compile() method is used to compile a regular expression pattern \n",
    "# provided as a string into a regex pattern object (re.Pattern). \n",
    "# Later we can use this pattern object to search for a match inside different target\n",
    "# strings using regex methods such as a re.match(), re.findall() re.search() etc."
   ]
  },
  {
   "cell_type": "markdown",
   "metadata": {},
   "source": [
    "# Regex Substitution\n",
    "<a>Task</a> : You are given a text of <em>N</em> lines. The text contains && and || symbols.\n",
    "Your task is to modify those symbols to the following:\n",
    "\n",
    "<em>&& -> and</em>\n",
    "\n",
    "<em>|| -> or</em>\n",
    "\n",
    "Both && and || should have a space \" \" on both sides.\n",
    "\n",
    "<a>Input Format</a> : The first line contains the integer, <em>N</em>.\n",
    "The next <em>N</em> lines each contain a line of the text."
   ]
  },
  {
   "cell_type": "code",
   "execution_count": null,
   "metadata": {},
   "outputs": [
    {
     "name": "stdout",
     "output_type": "stream",
     "text": [
      "a = 1;\n",
      "b = input();\n",
      " \n",
      "if a + b > 0 and a - b < 0:\n",
      "    start()\n",
      "elif a*b > 10 or a/b < 1:\n",
      "    stop()\n",
      "print set(list(a)) | set(list(b)) \n",
      "#Note do not change &&& or ||| or & or |\n",
      "#Only change those '&&' which have space on both sides.\n",
      "#Only change those '|| which have space on both sides.\n"
     ]
    }
   ],
   "source": [
    "import re \n",
    "\n",
    "n = int(input()) #input line number\n",
    "s = \"\"  #create empty string\n",
    "for i in range(n):  #adding all lines to string\n",
    "    if i != n-1:\n",
    "        s += (input()+\"\\n\")\n",
    "    else:\n",
    "        s += input()\n",
    "\n",
    "#first replace '&&'s with 'and', then replace '||'s with 'or'\n",
    "temp = re.sub(r\"(?<= )(&&)(?= )\" , \"and\", s)\n",
    "print(re.sub(r\"(?<= )(\\|\\|)(?= )\", \"or\" , temp))\n",
    "\n",
    "#below solution with lambda function is also fantastic\n",
    "#for i in range(N):\n",
    "#    print re.sub(r'(?<= )(&&|\\|\\|)(?= )', lambda x: 'and' if x.group() == '&&' else 'or', raw_input())"
   ]
  },
  {
   "cell_type": "markdown",
   "metadata": {},
   "source": [
    "# Validating Roman Numerals\n",
    "<a>Task</a> : You are given a string, and you have to validate whether it's a valid Roman numeral. If it is valid, print True. Otherwise, print False. Try to create a regular expression for a valid Roman numeral.\n",
    "\n",
    "<a>Input Format</a> : A single line of input containing a string of Roman characters."
   ]
  },
  {
   "cell_type": "code",
   "execution_count": 15,
   "metadata": {},
   "outputs": [
    {
     "name": "stdout",
     "output_type": "stream",
     "text": [
      "True\n"
     ]
    }
   ],
   "source": [
    "#I just found the regex expression from web, roman numerals are total freak for me\n",
    "regex_pattern = r\"^M{0,3}(CM|CD|D?C{0,3})(XC|XL|L?X{0,3})(IX|IV|V?I{0,3})$\"\t# Do not delete 'r'.\n",
    "\n",
    "import re\n",
    "print(str(bool(re.match(regex_pattern, input()))))"
   ]
  },
  {
   "cell_type": "markdown",
   "metadata": {},
   "source": [
    "# Validating phone numbers\n",
    "<a>Task</a> : You are given some input, and you are required to check whether they are valid mobile numbers.\n",
    "\n",
    "A valid mobile number is a ten digit number starting with a <em>7</em>, <em>8</em> or <em>9</em>.\n",
    "\n",
    "<a>Input Format</a> : The first line contains an integer <em>N</em>, the number of inputs.\n",
    "<em>N</em> lines follow, each containing some string."
   ]
  },
  {
   "cell_type": "code",
   "execution_count": null,
   "metadata": {},
   "outputs": [],
   "source": [
    "import re\n",
    "\n",
    "pattern = r\"^[789]{1}[0-9]{9}$\" #phone number must be 10 digit \n",
    "n = int(input()) #input the number of lines\n",
    "\n",
    "for _ in range(n):\n",
    "    if bool(re.match(pattern, input())) : \n",
    "        print(\"YES\")    #print YES if it matches\n",
    "    else:\n",
    "        print(\"NO\")     #print NO if does not"
   ]
  },
  {
   "cell_type": "markdown",
   "metadata": {},
   "source": [
    "# Validating and Parsing Email Addresses\n",
    "<a>Task</a> : Given <em>n</em> pairs of names and email addresses as input, print each name and email address pair having a valid email address on a new line.\n",
    "\n",
    "<a>Input Format</a> : The first line contains a single integer, <em>n</em>, denoting the number of email address.\n",
    "Each line <em>i</em> of the <em>n</em> subsequent lines contains a name and an email address as two space-separated values following this format: name <user@email.com>"
   ]
  },
  {
   "cell_type": "code",
   "execution_count": 16,
   "metadata": {},
   "outputs": [
    {
     "name": "stdout",
     "output_type": "stream",
     "text": [
      "DEXTER <dexter@hotmail.com>\n"
     ]
    }
   ],
   "source": [
    "import re\n",
    "pattern = r\"<([a-zA-Z][a-zA-Z0-9-\\._]+)(@[a-zA-Z]+)(\\.[a-zA-Z]{1,3})>\" #regex pattern of email format\n",
    "n = int(input()) #input number of line\n",
    "\n",
    "for _ in range(n):\n",
    "    name, mail = input().split(sep=\" \") #input name and email\n",
    "    if bool(re.match(pattern, mail)): #checking if email matches with pattern\n",
    "        print(name, mail) #print out if it matches"
   ]
  },
  {
   "cell_type": "markdown",
   "metadata": {},
   "source": [
    "# Hex Color Code\n",
    "<a>Task</a> : You are given <em>N</em> lines of CSS code. Your task is to print all valid Hex Color Codes, in order of their occurrence from top to bottom.\n",
    "\n",
    "CSS Code Pattern\n",
    "\n",
    "<em>Selector\n",
    "\n",
    "{\n",
    "\n",
    "\tProperty: Value;\n",
    "\n",
    "}</em>\n",
    "\n",
    "<a>Input Format</a> : The first line contains <em>N</em>, the number of code lines.\n",
    "The next <em>N</em> lines contains CSS Codes."
   ]
  },
  {
   "cell_type": "code",
   "execution_count": 17,
   "metadata": {},
   "outputs": [
    {
     "name": "stdout",
     "output_type": "stream",
     "text": [
      "#FfFdF8\n",
      "#aef\n",
      "#f9f9f9\n",
      "#fff\n",
      "#ABC\n",
      "#fff\n"
     ]
    }
   ],
   "source": [
    "import re\n",
    "\n",
    "n = int(input()) #input number of lines\n",
    "\n",
    "for _ in range(n):\n",
    "    color = input() #input the string line by line\n",
    "    m = re.findall(r\"(?<!^)(#(?:[0-9A-Fa-f]{3}){1,2})\", color) #check if it matches with regex expression\n",
    "    for i in m:\n",
    "        print(i) #print out matches"
   ]
  },
  {
   "cell_type": "markdown",
   "metadata": {},
   "source": [
    "# HTML Parser - Part 1\n",
    "<a>Task</a> : You are given an HTML code snippet of <em>N</em> lines.\n",
    "Your task is to print start tags, end tags and empty tags separately.\n",
    "\n",
    "<a>Input Format</a> : The first line contains integer <em>N</em>, the number of lines in a HTML code snippet.\n",
    "The next <em>N</em> lines contain HTML code."
   ]
  },
  {
   "cell_type": "code",
   "execution_count": 18,
   "metadata": {},
   "outputs": [
    {
     "name": "stdout",
     "output_type": "stream",
     "text": [
      "Start : html\n",
      "Start : head\n",
      "Start : title\n",
      "End   : title\n",
      "End   : head\n",
      "Start : body\n",
      "-> data-modal-target > None\n",
      "-> class > 1\n",
      "Start : h1\n",
      "End   : h1\n",
      "Empty : br\n",
      "End   : body\n",
      "End   : html\n"
     ]
    }
   ],
   "source": [
    "#the solution is from discussion\n",
    "from html.parser import HTMLParser\n",
    "class MyHTMLParser(HTMLParser):\n",
    "    def handle_starttag(self, tag, attrs):        \n",
    "        print ('Start :',tag)\n",
    "        for ele in attrs:\n",
    "            print ('->',ele[0],'>',ele[1])\n",
    "            \n",
    "    def handle_endtag(self, tag):\n",
    "        print ('End   :',tag)\n",
    "        \n",
    "    def handle_startendtag(self, tag, attrs):\n",
    "        print ('Empty :',tag)\n",
    "        for ele in attrs:\n",
    "            print ('->',ele[0],'>',ele[1])\n",
    "            \n",
    "MyParser = MyHTMLParser()\n",
    "MyParser.feed(''.join([input().strip() for _ in range(int(input()))]))"
   ]
  },
  {
   "cell_type": "markdown",
   "metadata": {},
   "source": [
    "# HTML Parser - Part 2\n",
    "<a>Task</a> : You are given an HTML code snippet of <em>N</em> lines.\n",
    "Your task is to print the single-line comments, multi-line comments and the data.\n",
    "\n",
    "<a>Input Format</a> : The first line contains integer <em>N</em>, the number of lines in a HTML code snippet.\n",
    "The next <em>N</em> lines contain HTML code."
   ]
  },
  {
   "cell_type": "code",
   "execution_count": 19,
   "metadata": {},
   "outputs": [
    {
     "name": "stdout",
     "output_type": "stream",
     "text": [
      ">>> Multi-line Comment\n",
      "[if IE 9]>IE9-specific content\n",
      "<![endif]\n",
      ">>> Data\n",
      " Welcome to HackerRank\n",
      ">>> Single-line Comment\n",
      "[if IE 9]>IE9-specific content<![endif]\n"
     ]
    }
   ],
   "source": [
    "#the solution is from discussion\n",
    "from html.parser import HTMLParser\n",
    "class CustomHTMLParser(HTMLParser):\n",
    "    def handle_comment(self, data):\n",
    "        number_of_line = len(data.split('\\n'))\n",
    "        if number_of_line>1:\n",
    "            print('>>> Multi-line Comment')\n",
    "        else:\n",
    "            print('>>> Single-line Comment')\n",
    "        if data.strip():\n",
    "            print(data)\n",
    "\n",
    "    def handle_data(self, data):\n",
    "        if data.strip():\n",
    "            print(\">>> Data\")\n",
    "            print(data)\n",
    "\n",
    "parser = CustomHTMLParser()\n",
    "\n",
    "n = int(input())\n",
    "\n",
    "html_string = ''\n",
    "for i in range(n):\n",
    "    html_string += input().rstrip()+'\\n'\n",
    "    \n",
    "parser.feed(html_string)\n",
    "parser.close()"
   ]
  },
  {
   "cell_type": "markdown",
   "metadata": {},
   "source": [
    "# Detect HTML Tags, Attributes and Attribute Values\n",
    "<a>Task</a> : You are given an HTML code snippet of <em>N</em> lines.\n",
    "Your task is to detect and print all the HTML tags, attributes and attribute values.\n",
    "\n",
    "<a>Input Format</a> : The first line contains integer <em>N</em>, the number of lines in a HTML code snippet.\n",
    "The next <em>N</em> lines contain HTML code."
   ]
  },
  {
   "cell_type": "code",
   "execution_count": 20,
   "metadata": {},
   "outputs": [
    {
     "name": "stdout",
     "output_type": "stream",
     "text": [
      "head\n",
      "title\n",
      "object\n",
      "-> type > application/x-flash\n",
      "-> data > your-file.swf\n",
      "-> width > 0\n",
      "-> height > 0\n",
      "param\n",
      "-> name > quality\n",
      "-> value > high\n"
     ]
    }
   ],
   "source": [
    "#the solution is from discussion\n",
    "from html.parser import HTMLParser\n",
    "class MyHTMLParser(HTMLParser):\n",
    "    def handle_starttag(self, tag, attrs):\n",
    "        print(tag)\n",
    "        [print('-> {} > {}'.format(*attr)) for attr in attrs]\n",
    "        \n",
    "html = '\\n'.join([input() for _ in range(int(input()))])\n",
    "parser = MyHTMLParser()\n",
    "parser.feed(html)\n",
    "parser.close()"
   ]
  },
  {
   "cell_type": "markdown",
   "metadata": {},
   "source": [
    "# Validating UID\n",
    "<a>Task</a> : ABCXYZ company has up to <em>100</em> employees.\n",
    "The company decides to create a unique identification number (UID) for each of its employees.\n",
    "The company has assigned you the task of validating all the randomly generated UIDs.\n",
    "\n",
    "<a>Input Format</a> : The first line contains an integer <em>T</em>, the number of test cases.\n",
    "The next <em>T</em> lines contains an employee's UID."
   ]
  },
  {
   "cell_type": "code",
   "execution_count": 21,
   "metadata": {},
   "outputs": [
    {
     "name": "stdout",
     "output_type": "stream",
     "text": [
      "Invalid\n",
      "Valid\n"
     ]
    }
   ],
   "source": [
    "#the solution is from discussion\n",
    "import re\n",
    "\n",
    "for _ in range(int(input())):\n",
    "    u = ''.join(sorted(input()))\n",
    "    try:\n",
    "        assert re.search(r'[A-Z]{2}', u)\n",
    "        assert re.search(r'\\d\\d\\d', u)\n",
    "        assert not re.search(r'[^a-zA-Z0-9]', u)\n",
    "        assert not re.search(r'(.)\\1', u)\n",
    "        assert len(u) == 10\n",
    "    except:\n",
    "        print('Invalid')\n",
    "    else:\n",
    "        print('Valid')"
   ]
  },
  {
   "cell_type": "markdown",
   "metadata": {},
   "source": [
    "# Validating Credit Card Numbers\n",
    "<a>Task</a> : You and Fredrick are good friends. Yesterday, Fredrick received <em>N</em> credit cards from ABCD Bank. He wants to verify whether his credit card numbers are valid or not. You happen to be great at regex so he is asking for your help!\n",
    "\n",
    "A valid credit card from ABCD Bank has the following characteristics:\n",
    "\n",
    "<li>It must start with a <em>4</em>, <em>5</em> or <em>6</em>.</li>\n",
    "<li>It must contain exactly <em>16</em> digits.</li>\n",
    "<li>It must only consist of digits (<em>0</em>-<em>9</em>).</li>\n",
    "<li>It may have digits in groups of <em>4</em>, separated by one hyphen \"-\".</li>\n",
    "<li>It must NOT use any other separator like ' ' , '_', etc.</li>\n",
    "<li>It must NOT have <em>4</em> or more consecutive repeated digits.</li>\n",
    "\n",
    "<a>Input Format</a> : The first line contains integer <em>N</em>.\n",
    "The next <em>N</em> lines contain credit card numbers."
   ]
  },
  {
   "cell_type": "code",
   "execution_count": 2,
   "metadata": {},
   "outputs": [
    {
     "name": "stdout",
     "output_type": "stream",
     "text": [
      "Valid\n",
      "Valid\n",
      "Invalid\n",
      "Valid\n",
      "Invalid\n",
      "Invalid\n"
     ]
    }
   ],
   "source": [
    "import re\n",
    "\n",
    "#create a regex pattern for card number format\n",
    "pattern = r\"^[456](\\d{15}|\\d{3}(-\\d{4}){3})$\"\n",
    "\n",
    "n = int(input())\n",
    "for _ in range(n):\n",
    "    card_number = input() #input card number to check if it is valid or invalid\n",
    "    #basically first check if it matches with regex format, than check if it has 4 or more consecutive repeated digits  \n",
    "    if bool(re.match(pattern, card_number)) and not re.search(r\"([\\d])\\1\\1\\1\", card_number.replace(\"-\", \"\")):\n",
    "        print(\"Valid\")\n",
    "    else:\n",
    "        print(\"Invalid\")"
   ]
  },
  {
   "cell_type": "markdown",
   "metadata": {},
   "source": [
    "# Validating Postal Codes\n",
    "<a>Task</a> : Your task is to provide two regular expressions regex_integer_in_range and regex_alternating_repetitive_digit_pair. Where:\n",
    "\n",
    "regex_integer_in_range should match only integers range from <em>100000</em> to <em>999999</em> inclusive\n",
    "\n",
    "regex_alternating_repetitive_digit_pair should find alternating repetitive digits pairs in a given string.\n",
    "\n",
    "\n",
    "\n",
    "<a>Input Format</a> : Locked stub code in the editor reads a single string denoting <em>P</em> from stdin and uses provided expression and your regular expressions to validate if <em>P</em> is a valid postal code."
   ]
  },
  {
   "cell_type": "code",
   "execution_count": 11,
   "metadata": {},
   "outputs": [
    {
     "name": "stdout",
     "output_type": "stream",
     "text": [
      "False\n"
     ]
    }
   ],
   "source": [
    "regex_integer_in_range = r\"^[1-9]\\d{5}$\"\t# regex pattern for postal code \n",
    "regex_alternating_repetitive_digit_pair = r\"(?=(\\d)\\d\\1)\"\t# regex for finding repetitive digits \n",
    "\n",
    "\n",
    "import re\n",
    "P = input()\n",
    "\n",
    "# if it matches with regex and doesn't contain more than 1 repetitive digits \n",
    "print (bool(re.match(regex_integer_in_range, P)) \n",
    "and len(re.findall(regex_alternating_repetitive_digit_pair, P)) < 2)"
   ]
  },
  {
   "cell_type": "markdown",
   "metadata": {},
   "source": [
    "# Matrix Script\n",
    "<a>Task</a> : Neo has a complex matrix script. The matrix script is a  <em>N</em>x<em>M</em>  grid of strings. It consists of alphanumeric characters, spaces and symbols (!,@,#,$,%,&).\n",
    "\n",
    "To decode the script, Neo needs to read each column and select only the alphanumeric characters and connect them. Neo reads the column from top to bottom and starts reading from the leftmost column.\n",
    "\n",
    "If there are symbols or spaces between two alphanumeric characters of the decoded script, then Neo replaces them with a single space '' for better readability.\n",
    "\n",
    "Neo feels that there is no need to use 'if' conditions for decoding.\n",
    "\n",
    "Alphanumeric characters consist of: [A-Z, a-z, and 0-9].\n",
    "\n",
    "<a>Input Format</a> : The first line contains space-separated integers <em>N</em> (rows) and <em>M</em> (columns) respectively.\n",
    "The next <em>N</em> lines contain the row elements of the matrix script."
   ]
  },
  {
   "cell_type": "code",
   "execution_count": 17,
   "metadata": {},
   "outputs": [
    {
     "name": "stdout",
     "output_type": "stream",
     "text": [
      "This is Matrix#  %!\n"
     ]
    }
   ],
   "source": [
    "import re\n",
    "\n",
    "pattern = r\"(?<=\\w)([^\\w]+)(?=\\w)\" # regex pattern for alphanumeric chars only\n",
    "\n",
    "n,m = map(int, input().split())\n",
    "matrix = []\n",
    "s = \"\" \n",
    "\n",
    "for _ in range(n):\n",
    "    matrix_item = input()\n",
    "    matrix.append(matrix_item)\n",
    "\n",
    "for m in zip(*matrix): #zip func gathers the ith element of each rows\n",
    "    s += \"\".join(m)\n",
    "\n",
    "print(re.sub(pattern, \" \", s))"
   ]
  },
  {
   "cell_type": "markdown",
   "metadata": {},
   "source": [
    "# Mod Divmod\n",
    "<a>Task</a> : Read in two integers, <em>a</em> and <em>b</em>, and print three lines.\n",
    "The first line is the integer division <em>a//b</em>.\n",
    "\n",
    "The second line is the result of the modulo operator: <em>a%b</em>.\n",
    "\n",
    "The third line prints the divmod of <em>a</em> and <em>b</em>.\n",
    "\n",
    "<a>Input Format</a> : The first line contains the first integer, <em>a</em>, and the second line contains the second integer, <em>a</em>."
   ]
  },
  {
   "cell_type": "code",
   "execution_count": 18,
   "metadata": {},
   "outputs": [
    {
     "name": "stdout",
     "output_type": "stream",
     "text": [
      "17\n",
      "7\n",
      "(17, 7)\n"
     ]
    }
   ],
   "source": [
    "a = int(input())\n",
    "b = int(input())\n",
    "\n",
    "print(a//b, a%b, divmod(a,b), sep=\"\\n\")"
   ]
  },
  {
   "cell_type": "markdown",
   "metadata": {},
   "source": [
    "# Power - Mod Power\n",
    "<a>Task</a> : You are given three integers: <em>a</em>, <em>b</em>, and <em>m</em>. Print two lines.\n",
    "On the first line, print the result of pow(a,b). On the second line, print the result of pow(a,b,m).\n",
    "\n",
    "<a>Input Format</a> : The first line contains <em>a</em>, the second line contains <em>b</em>, and the third line contains <em>m</em>."
   ]
  },
  {
   "cell_type": "code",
   "execution_count": 19,
   "metadata": {},
   "outputs": [
    {
     "name": "stdout",
     "output_type": "stream",
     "text": [
      "81\n",
      "1\n"
     ]
    }
   ],
   "source": [
    "\n",
    "a = int(input())\n",
    "b = int(input())\n",
    "m = int(input())\n",
    "\n",
    "print(pow(a,b), pow(a,b,m), sep=\"\\n\")"
   ]
  },
  {
   "cell_type": "markdown",
   "metadata": {},
   "source": [
    "# Integers Come In All Sizes\n",
    "<a>Task</a> : Read four numbers, <em>a</em>, <em>b</em>, <em>c</em>, and <em>d</em>, and print the result of <em>a<sup>b</sup> + c<sup>d</sup></em>.\n",
    "\n",
    "<a>Input Format</a> : Integers <em>a</em>, <em>b</em>, <em>c</em>, and <em>d</em> are given on four separate lines, respectively."
   ]
  },
  {
   "cell_type": "code",
   "execution_count": 20,
   "metadata": {},
   "outputs": [
    {
     "name": "stdout",
     "output_type": "stream",
     "text": [
      "4710194409608608369201743232\n"
     ]
    }
   ],
   "source": [
    "a = int(input())\n",
    "b = int(input())\n",
    "c = int(input())\n",
    "d = int(input())\n",
    "\n",
    "print(pow(a,b) + pow(c,d))"
   ]
  },
  {
   "cell_type": "markdown",
   "metadata": {},
   "source": [
    "# Triangle Quest\n",
    "<a>Task</a> : Can you do it using only arithmetic operations, a single for loop and print statement?\n",
    "\n",
    "Use no more than two lines. The first line (the for statement) is already written for you. You have to complete the print statement.\n",
    "\n",
    "<a>Input Format</a> : A single line containing integer, <em>N</em>."
   ]
  },
  {
   "cell_type": "code",
   "execution_count": 21,
   "metadata": {},
   "outputs": [
    {
     "name": "stdout",
     "output_type": "stream",
     "text": [
      "1\n",
      "22\n",
      "333\n",
      "4444\n"
     ]
    }
   ],
   "source": [
    "for i in range(1,int(input())):\n",
    "    print((10**(i)//9)*i)"
   ]
  },
  {
   "cell_type": "markdown",
   "metadata": {},
   "source": [
    "# Zipped!\n",
    "<a>Task</a> : The National University conducts an examination of <em>N</em> students in <em>X</em> subjects.\n",
    "Your task is to compute the average scores of each student.\n",
    "\n",
    "<em>Average score = Sum of scores obtained in all subjects by a student / Total number of subjects</em>\n",
    "\n",
    "<a>Input Format</a> : The first line contains <em>N</em> and <em>X</em> separated by a space.\n",
    "The next <em>X</em> lines contains the space separated marks obtained by students in a particular subject."
   ]
  },
  {
   "cell_type": "code",
   "execution_count": 22,
   "metadata": {},
   "outputs": [
    {
     "name": "stdout",
     "output_type": "stream",
     "text": [
      "90.0\n",
      "91.0\n",
      "82.0\n",
      "90.0\n",
      "85.5\n"
     ]
    }
   ],
   "source": [
    "n, x = map(int, input().split())\n",
    "arr = []\n",
    "for _ in range(x):\n",
    "    arr.append(list(map(float, input().split()))) # append each score to array \n",
    "\n",
    "for i in zip(*arr): # gather ith scores for each row/student\n",
    "    print(sum(i)/len(i))"
   ]
  },
  {
   "cell_type": "markdown",
   "metadata": {},
   "source": [
    "# Input()\n",
    "<a>Task</a> : You are given a polynomial <em>P</em> of a single indeterminate (or variable), <em>x</em>.\n",
    "You are also given the values of <em>x</em> and <em>k</em>. Your task is to verify if <em>P(x) = k</em>.\n",
    "\n",
    "<a>Input Format</a> : The first line contains the space separated values of <em>x</em> and <em>k</em>.\n",
    "The second line contains the polynomial <em>P</em>."
   ]
  },
  {
   "cell_type": "code",
   "execution_count": 23,
   "metadata": {},
   "outputs": [
    {
     "name": "stdout",
     "output_type": "stream",
     "text": [
      "True\n"
     ]
    }
   ],
   "source": [
    "x, k = map(int, input().split())\n",
    "polynom = input().replace(\"x\", str(x)) # to use eval built in func, replace all \"x\" letters with x value\n",
    "print(bool(eval(polynom) == k))"
   ]
  },
  {
   "cell_type": "markdown",
   "metadata": {},
   "source": [
    "# Piling Up!\n",
    "<a>Task</a> : YThere is a horizontal row of <em>n</em> cubes. The length of each cube is given. You need to create a new vertical pile of cubes. The new pile should follow these directions: if <em>cube[i]</em> is on top of <em>cube[j]</em> then <em>sideLength[j] >= sideLength[i]</em>.\n",
    "\n",
    "When stacking the cubes, you can only pick up either the leftmost or the rightmost cube each time. Print Yes if it is possible to stack the cubes. Otherwise, print No.\n",
    "\n",
    "<a>Input Format</a> : The first line contains a single integer <em>T</em>, the number of test cases.\n",
    "For each test case, there are <em>2</em> lines.\n",
    "The first line of each test case contains <em>n</em>, the number of cubes.\n",
    "The second line contains <em>n</em> space separated integers, denoting the sideLengths of each cube in that order."
   ]
  },
  {
   "cell_type": "code",
   "execution_count": 32,
   "metadata": {},
   "outputs": [
    {
     "name": "stdout",
     "output_type": "stream",
     "text": [
      "Yes\n",
      "No\n"
     ]
    }
   ],
   "source": [
    "#this is an excellent solution found in discussion\n",
    "\n",
    "for _ in range(int(input())): #input test case number\n",
    "    n = int(input())\n",
    "    side_length = list(map(int, input().split())) #input length of cubes as a list  \n",
    "\n",
    "    min_indx = side_length.index(min(side_length)) #find index of the min value in list \n",
    "    left_side = side_length[:min_indx] #divide list into two part\n",
    "    right_side = side_length[min_indx+1:]\n",
    "\n",
    "    # if first part is sorted decreasing order and the second part is sorted increasing order print \"Yes\"\n",
    "    if left_side == sorted(left_side, reverse=True) and right_side == sorted(right_side):\n",
    "        print(\"Yes\")\n",
    "    else:\n",
    "        print(\"No\")"
   ]
  }
 ],
 "metadata": {
  "interpreter": {
   "hash": "faf9ab473c29a0dc5a374468e44674fac3077178e3bb26d0489da5aa9d6c7fc0"
  },
  "kernelspec": {
   "display_name": "Python 3.7.7 64-bit",
   "language": "python",
   "name": "python3"
  },
  "language_info": {
   "codemirror_mode": {
    "name": "ipython",
    "version": 3
   },
   "file_extension": ".py",
   "mimetype": "text/x-python",
   "name": "python",
   "nbconvert_exporter": "python",
   "pygments_lexer": "ipython3",
   "version": "3.7.7"
  },
  "orig_nbformat": 4
 },
 "nbformat": 4,
 "nbformat_minor": 2
}
