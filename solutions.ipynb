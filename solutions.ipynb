{
 "cells": [
  {
   "cell_type": "markdown",
   "metadata": {},
   "source": [
    "# itertools.permutations(iterable[, r])\n",
    "<a>Task</a> : You are given a string <em>S</em>.\n",
    "Your task is to print all possible permutations of size <em>k</em> of the string in lexicographic sorted order.\n",
    "\n",
    "<a>Input Format</a> : A single line containing the space separated string  and the integer value <em>k</em>."
   ]
  },
  {
   "cell_type": "code",
   "execution_count": 23,
   "metadata": {},
   "outputs": [
    {
     "name": "stdout",
     "output_type": "stream",
     "text": [
      "Hac 2\n",
      "Ha\n",
      "Hc\n",
      "aH\n",
      "ac\n",
      "cH\n",
      "ca\n"
     ]
    }
   ],
   "source": [
    "from itertools import permutations\n",
    "s,k = input().split()\n",
    "print(s, k)\n",
    "new_list = sorted(list(permutations(s, int(k))), reverse= False)\n",
    "for word in new_list:\n",
    "    print(*word, sep=\"\")"
   ]
  },
  {
   "cell_type": "markdown",
   "metadata": {},
   "source": [
    "# sWAP cASE\n",
    "<a>Task</a> : Complete the swap_case function in the editor below.\n",
    "\n",
    "swap_case has the following parameters: \n",
    "<li>string s: the string to modify.</li>\n",
    "\n",
    "<a>Input Format</a> : A single line containing a string <em>s</em>."
   ]
  },
  {
   "cell_type": "code",
   "execution_count": null,
   "metadata": {},
   "outputs": [
    {
     "name": "stdout",
     "output_type": "stream",
     "text": [
      "HacKeR\n",
      "hACkEr\n"
     ]
    }
   ],
   "source": [
    "def swap_case(s):\n",
    "    temp = \"\".join(i.upper() if i.islower() else i.lower() for i in s)\n",
    "    return temp\n",
    "\n",
    "if __name__ == '__main__':\n",
    "    s = input()\n",
    "    print(s)\n",
    "    result = swap_case(s)\n",
    "    print(result)"
   ]
  },
  {
   "cell_type": "markdown",
   "metadata": {},
   "source": [
    "# Text Wrap\n",
    "<a>Task</a> : Complete the wrap function in the editor below.\n",
    "\n",
    "wrap has the following parameters:\n",
    "\n",
    "<li>string string: a long string</li>\n",
    "<li>int max_width: the width to wrap to.</li>\n",
    "\n",
    "<a>Input Format</a> : The first line contains a string, <em>string</em>.\n",
    "The second line contains the width, <em>max_width</em>."
   ]
  },
  {
   "cell_type": "code",
   "execution_count": null,
   "metadata": {},
   "outputs": [
    {
     "name": "stdout",
     "output_type": "stream",
     "text": [
      "Hacker Rank 3\n",
      "Hac\n",
      "ker\n",
      "Ran\n",
      "k\n"
     ]
    }
   ],
   "source": [
    "import textwrap\n",
    "\n",
    "def wrap(string, max_width):\n",
    "    return \"\\n\".join(textwrap.wrap(string,max_width))\n",
    "\n",
    "if __name__ == '__main__':\n",
    "    string, max_width = input(), int(input())\n",
    "    print(string, max_width)\n",
    "    result = wrap(string, max_width)\n",
    "    print(result)"
   ]
  },
  {
   "cell_type": "markdown",
   "metadata": {},
   "source": [
    "# Find the Runner-Up Score!\n",
    "<a>Task</a> : Given the participants' score sheet for your University Sports Day, you are required to find the runner-up score. You are given  scores. Store them in a list and find the score of the runner-up.\n",
    "\n",
    "<a>Input Format</a> : The first line contains <em>n</em>. The second line contains an array  <em>A[ ]</em> of  <em>n</em> integers each separated by a space."
   ]
  },
  {
   "cell_type": "code",
   "execution_count": null,
   "metadata": {},
   "outputs": [
    {
     "name": "stdout",
     "output_type": "stream",
     "text": [
      "4\n"
     ]
    }
   ],
   "source": [
    "if __name__ == '__main__':\n",
    "    n = int(input())\n",
    "    arr = map(int, input().split())\n",
    "    print(sorted(set(arr))[-2])"
   ]
  },
  {
   "cell_type": "markdown",
   "metadata": {},
   "source": [
    "# itertools.combinations()\n",
    "<a>Task</a> : You are given a string <em>S</em>.\n",
    "Your task is to print all possible combinations, up to size <em>k</em>, of the string in lexicographic sorted order.\n",
    "\n",
    "<a>Input Format</a> : A single line containing the string  <em>S</em> and integer value  <em>k</em> separated by a space."
   ]
  },
  {
   "cell_type": "code",
   "execution_count": null,
   "metadata": {},
   "outputs": [
    {
     "name": "stdout",
     "output_type": "stream",
     "text": [
      "Hack 2\n",
      "H\n",
      "a\n",
      "c\n",
      "k\n",
      "Ha\n",
      "Hc\n",
      "Hk\n",
      "ac\n",
      "ak\n",
      "ck\n"
     ]
    }
   ],
   "source": [
    "from itertools import combinations\n",
    "\n",
    "s,k = input().split()\n",
    "print(s,k)\n",
    "k=int(k)\n",
    "i=1\n",
    "while k >= i:\n",
    "    words = list(combinations(sorted(s),i))\n",
    "    for word in words:\n",
    "        print(*word, sep=\"\")\n",
    "    i+=1"
   ]
  },
  {
   "cell_type": "markdown",
   "metadata": {},
   "source": [
    "# Text Alignment\n",
    "<a>Task</a> : You are given a partial code that is used for generating the HackerRank Logo of variable thickness.\n",
    "Your task is to replace the blank (______) with rjust, ljust or center.\n",
    "\n",
    "<a>Input Format</a> : A single line containing the thickness value for the logo."
   ]
  },
  {
   "cell_type": "code",
   "execution_count": 21,
   "metadata": {},
   "outputs": [
    {
     "name": "stdout",
     "output_type": "stream",
     "text": [
      "  H  \n",
      " HHH \n",
      "HHHHH\n",
      " HHH         HHH        \n",
      " HHH         HHH        \n",
      " HHH         HHH        \n",
      " HHH         HHH        \n",
      " HHHHHHHHHHHHHHH  \n",
      " HHHHHHHHHHHHHHH  \n",
      " HHH         HHH        \n",
      " HHH         HHH        \n",
      " HHH         HHH        \n",
      " HHH         HHH        \n",
      "            HHHHH \n",
      "             HHH  \n",
      "              H   \n"
     ]
    }
   ],
   "source": [
    "thickness = int(input()) #This must be an odd number\n",
    "c = 'H'\n",
    "\n",
    "#Top Cone\n",
    "for i in range(thickness):\n",
    "    print((c*i).rjust(thickness-1)+c+(c*i).ljust(thickness-1))\n",
    "\n",
    "#Top Pillars\n",
    "for i in range(thickness+1):\n",
    "    print((c*thickness).center(thickness*2)+(c*thickness).center(thickness*6))\n",
    "\n",
    "#Middle Belt\n",
    "for i in range((thickness+1)//2):\n",
    "    print((c*thickness*5).center(thickness*6))    \n",
    "\n",
    "#Bottom Pillars\n",
    "for i in range(thickness+1):\n",
    "    print((c*thickness).center(thickness*2)+(c*thickness).center(thickness*6))    \n",
    "\n",
    "#Bottom Cone\n",
    "for i in range(thickness):\n",
    "    print(((c*(thickness-i-1)).rjust(thickness)+c+(c*(thickness-i-1)).ljust(thickness)).rjust(thickness*6))"
   ]
  },
  {
   "cell_type": "markdown",
   "metadata": {},
   "source": [
    "# Designer Door Mat\n",
    "<a>Task</a> : Mr. Vincent works in a door mat manufacturing company. One day, he designed a new door mat with the following specifications:\n",
    "\n",
    "Mat size must be <em>M x N </em>. (<em>N</em> is an odd natural number, and <em>M</em> is <em>3</em> times <em>N</em>.)\n",
    "<li>The design should have 'WELCOME' written in the center.</li>\n",
    "<li>The design pattern should only use |, . and - characters.</li> \n",
    "\n",
    "<a>Input Format</a> : A single line containing the the space separated values of <em>N</em> and  <em>M</em>."
   ]
  },
  {
   "cell_type": "code",
   "execution_count": 24,
   "metadata": {},
   "outputs": [
    {
     "name": "stdout",
     "output_type": "stream",
     "text": [
      "------------.|.------------\n",
      "---------.|..|..|.---------\n",
      "------.|..|..|..|..|.------\n",
      "---.|..|..|..|..|..|..|.---\n",
      "----------WELCOME----------\n",
      "---.|..|..|..|..|..|..|.---\n",
      "------.|..|..|..|..|.------\n",
      "---------.|..|..|.---------\n",
      "------------.|.------------\n"
     ]
    }
   ],
   "source": [
    "n, m = input().split()\n",
    "n = int(n)\n",
    "m = int(m)\n",
    "for i in range(n):\n",
    "    if i < (n-1)/2:\n",
    "        print((\".|.\"*(i*2+1)).center(m, \"-\"))\n",
    "    elif i == (n-1)/2 :\n",
    "        print(\"WELCOME\".center(m,\"-\"))\n",
    "    elif i > (n-1)/2:\n",
    "        print((\".|.\"*((n-i)*2-1)).center(m, \"-\"))\n"
   ]
  },
  {
   "cell_type": "markdown",
   "metadata": {},
   "source": [
    "# itertools.permutations(iterable[, r])\n",
    "<a>Task</a> : You are given a string <em>S</em>.\n",
    "Your task is to print all possible permutations of size <em>k</em> of the string in lexicographic sorted order.\n",
    "\n",
    "<a>Input Format</a> : A single line containing the space separated string <em>S</em> and the integer value <em>k</em>."
   ]
  },
  {
   "cell_type": "code",
   "execution_count": 25,
   "metadata": {},
   "outputs": [
    {
     "name": "stdout",
     "output_type": "stream",
     "text": [
      "Ha\n",
      "Hc\n",
      "Hk\n",
      "aH\n",
      "ac\n",
      "ak\n",
      "cH\n",
      "ca\n",
      "ck\n",
      "kH\n",
      "ka\n",
      "kc\n"
     ]
    }
   ],
   "source": [
    "from itertools import permutations\n",
    "s,k = input().split()\n",
    "new_list = sorted(list(permutations(s, int(k))), reverse= False)\n",
    "for word in new_list:\n",
    "    print(*word, sep=\"\")"
   ]
  },
  {
   "cell_type": "markdown",
   "metadata": {},
   "source": [
    "# itertools.combinations_with_replacement(iterable, r)\n",
    "<a>Task</a> : You are given a string <em>S</em>.\n",
    "Your task is to print all possible size <em>k</em> replacement combinations of the string in lexicographic sorted order.\n",
    "\n",
    "<a>Input Format</a> : A single line containing the string <em>S</em> and the integer value <em>k</em>."
   ]
  },
  {
   "cell_type": "code",
   "execution_count": 26,
   "metadata": {},
   "outputs": [
    {
     "name": "stdout",
     "output_type": "stream",
     "text": [
      "aa\n",
      "ac\n",
      "ah\n",
      "cc\n",
      "ch\n",
      "hh\n"
     ]
    }
   ],
   "source": [
    "from itertools import combinations_with_replacement\n",
    "\n",
    "s,k = input().split()\n",
    "\n",
    "words = list(combinations_with_replacement(sorted(s), int(k)))\n",
    "\n",
    "for word in words:\n",
    "    print(*word, sep = \"\")"
   ]
  },
  {
   "cell_type": "markdown",
   "metadata": {},
   "source": [
    "# Polynomials\n",
    "<a>Task</a> : You are given the coefficients of a polynomial <em>P</em>.\n",
    "Your task is to find the value of <em>P</em> at point <em>x</em>.\n",
    "\n",
    "<a>Input Format</a> : The first line contains the space separated value of the coefficients in  <em>P</em>.\n",
    "The second line contains the value of <em>x</em>."
   ]
  },
  {
   "cell_type": "code",
   "execution_count": 27,
   "metadata": {},
   "outputs": [
    {
     "name": "stdout",
     "output_type": "stream",
     "text": [
      "12.799999999999999\n"
     ]
    }
   ],
   "source": [
    "import numpy\n",
    "\n",
    "t = list(map(float, input().split()))\n",
    "x = int(input())\n",
    "print(numpy.polyval(t,x))"
   ]
  },
  {
   "cell_type": "markdown",
   "metadata": {},
   "source": [
    "# Check Strict Superset\n",
    "<a>Task</a> : You are given a set  <em>A</em> and <em>n</em> other sets.\n",
    "Your job is to find whether set <em>A</em> is a strict superset of each of the <em>n</em> sets.\n",
    "\n",
    "Print True, if <em>A</em> is a strict superset of each of the <em>n</em> sets. Otherwise, print False.\n",
    "\n",
    "<a>Input Format</a> : The first line contains the space separated elements of set  <em>A</em>.\n",
    "The second line contains integer  <em>n</em>, the number of other sets.\n",
    "The next  <em>n</em> lines contains the space separated elements of the other sets."
   ]
  },
  {
   "cell_type": "code",
   "execution_count": 28,
   "metadata": {},
   "outputs": [
    {
     "name": "stdout",
     "output_type": "stream",
     "text": [
      "True\n"
     ]
    }
   ],
   "source": [
    "A = set(input().split())\n",
    "n = int(input())\n",
    "strict_superset = True\n",
    "for i in range(n):\n",
    "    new_set = set(input().split())\n",
    "    if not new_set.issubset(A) or not (len(A) > len(new_set)):\n",
    "        strict_superset = False\n",
    "print(strict_superset)"
   ]
  },
  {
   "cell_type": "markdown",
   "metadata": {},
   "source": [
    "# Compress the String!\n",
    "<a>Task</a> : In this task, we would like for you to appreciate the usefulness of the groupby() function of itertools .\n",
    "You are given a string  <em>S</em>. Suppose a character '<em>c</em>' occurs consecutively  <em>X</em> times in the string. Replace these consecutive occurrences of the character '<em>(X,c)</em>' with  in the string.\n",
    "\n",
    "<a>Input Format</a> : A single line of input consisting of the string   <em>S</em>."
   ]
  },
  {
   "cell_type": "code",
   "execution_count": 30,
   "metadata": {},
   "outputs": [
    {
     "name": "stdout",
     "output_type": "stream",
     "text": [
      "123456521\n",
      "(1, 1) (1, 2) (1, 3) (1, 4) (1, 5) (1, 6) (1, 5) (1, 2) (1, 1) "
     ]
    }
   ],
   "source": [
    "from itertools import groupby\n",
    "\n",
    "s = input()\n",
    "print(s)\n",
    "temp_list = []\n",
    "times = []\n",
    "\n",
    "for k,g in groupby(s):\n",
    "    temp_list.append(list(g))\n",
    "    times.append(int(k))\n",
    "\n",
    "for i in range(len(times)):\n",
    "    print((len(temp_list[i]), times[i]), end=\" \")\n"
   ]
  },
  {
   "cell_type": "markdown",
   "metadata": {},
   "source": [
    "# Iterables and Iterators\n",
    "<a>Task</a> : You are given a list of <em>N</em> lowercase English letters. For a given integer <em>K</em>, you can select any <em>K</em> indices (assume 1-based indexing) with a uniform probability from the list.\n",
    "\n",
    "Find the probability that at least one of the <em>K</em> indices selected will contain the letter: '<em>a</em>'.\n",
    "\n",
    "<a>Input Format</a> : The input consists of three lines. \n",
    "\n",
    "The first line contains the integer  <em>N</em>, denoting the length of the list.\n",
    "\n",
    "The next line consists of <em>N</em> space-separated lowercase English letters, denoting the elements of the list.\n",
    "\n",
    "The third and the last line of input contains the integer <em>K</em>, denoting the number of indices to be selected."
   ]
  },
  {
   "cell_type": "code",
   "execution_count": 37,
   "metadata": {},
   "outputs": [
    {
     "name": "stdout",
     "output_type": "stream",
     "text": [
      "['a', 'a', 'd', 'c'] \n",
      " 0.8333333333333334\n"
     ]
    }
   ],
   "source": [
    "from itertools import permutations\n",
    "\n",
    "l = int(input())\n",
    "n = input().replace(' ', '')\n",
    "k = int(input())\n",
    "print([i for i in n], end=\" \")\n",
    "temp_list = [''.join(x) for x in permutations(n, k)]\n",
    "output = 0\n",
    "\n",
    "for i in temp_list:\n",
    "    if \"a\" in i:\n",
    "        output+=1\n",
    "print(\"\\n\", output/len(temp_list))\n"
   ]
  },
  {
   "cell_type": "markdown",
   "metadata": {},
   "source": [
    "# collections.Counter()\n",
    "<a>Task</a> : <em>Raghu</em> is a shoe shop owner. His shop has <em>X</em> number of shoes.\n",
    "He has a list containing the size of each shoe he has in his shop.\n",
    "There are <em>N</em> number of customers who are willing to pay <em>Xi</em> amount of money only if they get the shoe of their desired size.\n",
    "\n",
    "Your task is to compute how much money <em>Raghu</em> earned.\n",
    "\n",
    "<a>Input Format</a> : The first line contains <em>X</em>, the number of shoes.\n",
    "The second line contains the space separated list of all the shoe sizes in the shop.\n",
    "The third line contains <em>N</em>, the number of customers.\n",
    "The next <em>N</em> lines contain the space separated values of the <em>shoe size</em> desired by the customer and <em>Xi</em>, the price of the shoe."
   ]
  },
  {
   "cell_type": "code",
   "execution_count": 38,
   "metadata": {},
   "outputs": [
    {
     "name": "stdout",
     "output_type": "stream",
     "text": [
      "200\n"
     ]
    }
   ],
   "source": [
    "from collections import Counter\n",
    "\n",
    "x = int(input())\n",
    "sizes = list(input().split())\n",
    "n = int(input())\n",
    "total_money = 0\n",
    "\n",
    "for i in range(n):\n",
    "    size, price = input().split()\n",
    "    if size in Counter(sizes).keys():\n",
    "        sizes.remove(size)\n",
    "        total_money += int(price)\n",
    "print(total_money)"
   ]
  },
  {
   "cell_type": "markdown",
   "metadata": {},
   "source": [
    "# Company Logo\n",
    "<a>Task</a> : Given a string <em>s</em>, which is the company name in lowercase letters, your task is to find the top three most common characters in the string.\n",
    "\n",
    "<li>Print the three most common characters along with their occurrence count.\n",
    "<li>Sort in descending order of occurrence count.\n",
    "<li>If the occurrence count is the same, sort the characters in alphabetical order.</li>\n",
    "\n",
    "<a>Input Format</a> : A single line of input containing the string <em>S</em>."
   ]
  },
  {
   "cell_type": "code",
   "execution_count": 40,
   "metadata": {},
   "outputs": [
    {
     "name": "stdout",
     "output_type": "stream",
     "text": [
      "d 3\n",
      "a 2\n",
      "f 2\n"
     ]
    }
   ],
   "source": [
    "if __name__ == '__main__':\n",
    "    s = input()\n",
    "    new_dict = {}\n",
    "    for i in s:\n",
    "        if i not in new_dict.keys():\n",
    "            new_dict[i] = 1\n",
    "        else:\n",
    "            new_dict[i] += 1\n",
    "            \n",
    "    new_dict = sorted(new_dict.items(), key=lambda x: (-x[1], x[0]))\n",
    "            \n",
    "    for i, (key,val) in enumerate(new_dict):\n",
    "        if i < 3:\n",
    "            print(key, val)\n"
   ]
  },
  {
   "cell_type": "markdown",
   "metadata": {},
   "source": [
    "# Maximize It!\n",
    "<a>Task</a> : You are given a function <em>f(x) = x^2</em>. You are also given <em>K</em> lists. The <em>ith</em> list consists of <em>Ni</em> elements.\n",
    "\n",
    "You have to pick one element from each list so that the value from the equation below is maximized:\n",
    "\n",
    "<em>S = (f(x1) + f(x2) + ... + f(xk))%M</em>\n",
    "\n",
    "<em>X</em>denotes the element picked from the <em>ith</em> list. Find the maximized value <em>Smax</em> obtained.\n",
    "\n",
    "<em>%</em> denotes the modulo operator.\n",
    "\n",
    "<a>Input Format</a> : The first line contains <em>2</em> space separated integers <em>K</em> and <em>M</em>.\n",
    "The next <em>K</em> lines each contains an integer <em>Ni</em>, denoting the number of elements in the <em>ith</em> list, followed by <em>Ni</em> space separated integers denoting the elements in the list."
   ]
  },
  {
   "cell_type": "code",
   "execution_count": 54,
   "metadata": {},
   "outputs": [
    {
     "name": "stdout",
     "output_type": "stream",
     "text": [
      "206\n"
     ]
    }
   ],
   "source": [
    "from itertools import product\n",
    "\n",
    "k, m = map(int, input().split())\n",
    "n = []\n",
    "max_s = []\n",
    "for _ in range(k):\n",
    "    temp = list(map(int, input().split()))\n",
    "    temp.pop(0)\n",
    "    n.append(map(lambda x: x**2%m, temp))\n",
    "\n",
    "print(max(map(lambda x:sum(x)%m, product(*n))))"
   ]
  },
  {
   "cell_type": "markdown",
   "metadata": {},
   "source": [
    "# Merge the Tools!\n",
    "<a>Task</a> : Complete the merge_the_tools function in the editor below.\n",
    "\n",
    "merge_the_tools has the following parameters:\n",
    "\n",
    "<li>string s: the string to analyze</li>\n",
    "<li>int k: the size of substrings to analyze</li>\n",
    "\n",
    "\n",
    "<a>Input Format</a> : The first line contains a single string, <em>s</em>.\n",
    "The second line contains an integer, <em>k</em>, the length of each substring. "
   ]
  },
  {
   "cell_type": "code",
   "execution_count": 2,
   "metadata": {},
   "outputs": [
    {
     "name": "stdout",
     "output_type": "stream",
     "text": [
      "ADS\n",
      "AS\n",
      "REF\n"
     ]
    }
   ],
   "source": [
    "def merge_the_tools(string, k):\n",
    "    # your code goes here\n",
    "    for i in range(int(len(string)/k)):\n",
    "        sub_string = string[i*k:(i+1)*k]    \n",
    "        temp = set()\n",
    "        for letter in sub_string:\n",
    "            if letter not in temp:\n",
    "                print(letter, end=\"\")\n",
    "                temp.add(letter)\n",
    "        print()\n",
    "                    \n",
    "if __name__ == '__main__':\n",
    "    string, k = input(), int(input())\n",
    "    merge_the_tools(string, k)"
   ]
  },
  {
   "cell_type": "markdown",
   "metadata": {},
   "source": [
    "# Alphabet Rangoli\n",
    "<a>Task</a> : Complete the rangoli function in the editor below.\n",
    "\n",
    "rangoli has the following parameters:\n",
    "\n",
    "<li>int size: the size of the rangoli</li>\n",
    "\n",
    "<a>Input Format</a> : Only one line of input containing  <em>size</em> , the size of the rangoli."
   ]
  },
  {
   "cell_type": "code",
   "execution_count": 11,
   "metadata": {},
   "outputs": [
    {
     "name": "stdout",
     "output_type": "stream",
     "text": [
      "--------e--------\n",
      "------e-d-e------\n",
      "----e-d-c-d-e----\n",
      "--e-d-c-b-c-d-e--\n",
      "e-d-c-b-a-b-c-d-e\n",
      "--e-d-c-b-c-d-e--\n",
      "----e-d-c-d-e----\n",
      "------e-d-e------\n",
      "--------e--------\n"
     ]
    }
   ],
   "source": [
    "def print_rangoli(size):\n",
    "    # your code goes here\n",
    "    import string\n",
    "    new_list =[]\n",
    "    for i in range(size):\n",
    "        temp = \"-\".join(string.ascii_letters[i:size])\n",
    "        new_list.append((temp[::-1]+temp[1:]).center(2*2*(size-1)+1, \"-\"))\n",
    "    print(\"\\n\".join(new_list[:0:-1]+new_list))\n",
    "        \n",
    "if __name__ == '__main__':\n",
    "    n = int(input())\n",
    "    print_rangoli(n)"
   ]
  },
  {
   "cell_type": "markdown",
   "metadata": {},
   "source": [
    "# Capitalize!\n",
    "<a>Task</a> : You are asked to ensure that the first and last names of people begin with a capital letter in their passports. For example, alison heck should be capitalised correctly as Alison Heck.\n",
    "\n",
    "<em><span style=\"color:red\"> *a*</span>lison <span style=\"color:red\"> *h*</span>eck ==> Alison Heck</em>\n",
    "\n",
    "Given a full name, your task is to capitalize the name appropriately.\n",
    "\n",
    "<a>Input Format</a> : A single line of input containing the full name,<em>S</em>."
   ]
  },
  {
   "cell_type": "code",
   "execution_count": 23,
   "metadata": {},
   "outputs": [
    {
     "name": "stdout",
     "output_type": "stream",
     "text": [
      "Sir, Chris Alan Here\n"
     ]
    }
   ],
   "source": [
    "# Complete the solve function below.\n",
    "def solve(s):\n",
    "    temp = s.split(\" \")\n",
    "    return \" \".join(temp[i].capitalize() for i in range(len(temp)))\n",
    "\n",
    "if __name__ == '__main__':\n",
    "    s = input()\n",
    "    print(solve(s))"
   ]
  },
  {
   "cell_type": "markdown",
   "metadata": {},
   "source": [
    "# The Minion Game\n",
    "<a>Task</a> : Complete the minion_game in the editor below.\n",
    "\n",
    "minion_game has the following parameters:\n",
    "\n",
    "<li>string string: the string to analyze</li>\n",
    "\n",
    "<a>Input Format</a> : A single line of input containing the string <em>S</em>."
   ]
  },
  {
   "cell_type": "code",
   "execution_count": 24,
   "metadata": {},
   "outputs": [
    {
     "name": "stdout",
     "output_type": "stream",
     "text": [
      "Stuart 12\n"
     ]
    }
   ],
   "source": [
    "def minion_game(string):\n",
    "    # your code goes here\n",
    "    vowels = \"AEIOU\"\n",
    "    k_score, s_score = 0, 0\n",
    "    for i in range(len(string)):\n",
    "        # if ith letter starting with vowels/consonants that means we can keep making words by adding\n",
    "        # letters to the right until the end of string\n",
    "        if string[i] in vowels:\n",
    "            k_score += len(string) - i\n",
    "        else:\n",
    "            s_score += len(string) - i\n",
    "    \n",
    "    if k_score > s_score:\n",
    "        print(\"Kevin\", k_score)\n",
    "    elif s_score > k_score:\n",
    "        print(\"Stuart\", s_score)\n",
    "    else:\n",
    "        print(\"Draw\")\n",
    "                \n",
    "if __name__ == '__main__':\n",
    "    s = input()\n",
    "    minion_game(s)"
   ]
  },
  {
   "cell_type": "markdown",
   "metadata": {},
   "source": [
    "# String Formatting\n",
    "<a>Task</a> : Complete the print_formatted function in the editor below.\n",
    "\n",
    "print_formatted has the following parameters:\n",
    "\n",
    "<li>int number: the maximum value to print</li>\n",
    "\n",
    "<a>Input Format</a> : A single integer denoting  <em>n</em>."
   ]
  },
  {
   "cell_type": "code",
   "execution_count": 1,
   "metadata": {},
   "outputs": [
    {
     "name": "stdout",
     "output_type": "stream",
     "text": [
      "    1     1     1     1\n",
      "    2     2     2    10\n",
      "    3     3     3    11\n",
      "    4     4     4   100\n",
      "    5     5     5   101\n",
      "    6     6     6   110\n",
      "    7     7     7   111\n",
      "    8    10     8  1000\n",
      "    9    11     9  1001\n",
      "   10    12     A  1010\n",
      "   11    13     B  1011\n",
      "   12    14     C  1100\n",
      "   13    15     D  1101\n",
      "   14    16     E  1110\n",
      "   15    17     F  1111\n",
      "   16    20    10 10000\n",
      "   17    21    11 10001\n"
     ]
    }
   ],
   "source": [
    "def print_formatted(number):\n",
    "    # your code goes here\n",
    "    padding = len(bin(number))-2 # -2 for the 2 digit prefix 0b\n",
    "    for i in range(1,number+1):\n",
    "        print(\"{decimal:>{padding}d} {octal:>{padding}o} {HEXADECIMAL:>{padding}X} {binary:>{padding}b}\".format(decimal=i,octal=i,HEXADECIMAL=i,binary=i, padding=padding))\n",
    "        \n",
    "if __name__ == '__main__':\n",
    "    n = int(input())\n",
    "    print_formatted(n)"
   ]
  },
  {
   "cell_type": "markdown",
   "metadata": {},
   "source": [
    "# Polar Coordinates\n",
    "<a>Task</a> : You are given a complex <em>z</em>. Your task is to convert it to polar coordinates.\n",
    "\n",
    "<a>Input Format</a> : A single line containing the complex number <em>z</em>. Note: complex() function can be used in python to convert the input as a complex number."
   ]
  },
  {
   "cell_type": "code",
   "execution_count": 2,
   "metadata": {},
   "outputs": [
    {
     "name": "stdout",
     "output_type": "stream",
     "text": [
      "2.23606797749979 \n",
      " 1.1071487177940904\n"
     ]
    }
   ],
   "source": [
    "import cmath\n",
    "z = complex(input())\n",
    "print(abs(z), \"\\n\", cmath.phase(z))\n",
    "# below code also can be used for one of the cleanest approach\n",
    "#print(*cmath.polar(complex(input())), sep='\\n')"
   ]
  },
  {
   "cell_type": "markdown",
   "metadata": {},
   "source": [
    "# Introduction to Sets\n",
    "<a>Task</a> : Complete the average function in the editor below.\n",
    "\n",
    "average has the following parameters:\n",
    "\n",
    "<li>int arr: an array of integers</li>\n",
    "\n",
    "<a>Input Format</a> : The first line contains the integer, <em>N</em> , the size of <em>arr</em>.\n",
    "The second line contains the <em>N</em> space-separated integers, <em>arr[i]</em>. "
   ]
  },
  {
   "cell_type": "code",
   "execution_count": 3,
   "metadata": {},
   "outputs": [
    {
     "name": "stdout",
     "output_type": "stream",
     "text": [
      "152.25\n"
     ]
    }
   ],
   "source": [
    "def average(array):\n",
    "    # your code goes here\n",
    "    return sum(set(array)) / len(set(array))\n",
    "\n",
    "if __name__ == '__main__':\n",
    "    n = int(input())\n",
    "    arr = list(map(int, input().split()))\n",
    "    result = average(arr)\n",
    "    print(result)"
   ]
  },
  {
   "cell_type": "markdown",
   "metadata": {},
   "source": [
    "# DefaultDict Tutorial\n",
    "<a>Task</a> : In this challenge, you will be given <em>2</em> integers,  <em>n</em> and <em>m</em>. There are <em>n</em> words, which might repeat, in word group <em>A</em>. There are <em>m</em> words belonging to word group <em>B</em>. For each <em>m</em> words, check whether the word has appeared in group <em>A</em> or not. Print the indices of each occurrence of <em>m</em> in group <em>A</em>. If it does not appear, print <em>-1</em>.\n",
    "\n",
    "<a>Input Format</a> : The first line contains integers, <em>n</em> and <em>m</em> separated by a space.\n",
    "The next <em>n</em> lines contains the words belonging to group <em>A</em>.\n",
    "The next <em>m</em> lines contains the words belonging to group <em>B</em>. "
   ]
  },
  {
   "cell_type": "code",
   "execution_count": 4,
   "metadata": {},
   "outputs": [
    {
     "name": "stdout",
     "output_type": "stream",
     "text": [
      "1 2 4\n",
      "3 5\n"
     ]
    }
   ],
   "source": [
    "# have been avoided solving it with multiple for loop, inspired by another solution in discussions section\n",
    "from collections import defaultdict\n",
    "\n",
    "n, m = map(int, input().split(sep=\" \"))\n",
    "d = defaultdict(list)\n",
    "for i in range(n):\n",
    "    d[input()].append(str(i+1))\n",
    "\n",
    "for _ in range(m):\n",
    "    b = input()\n",
    "    if b in d:\n",
    "        print(' '.join(d[b]))\n",
    "    else: print(-1)"
   ]
  },
  {
   "cell_type": "markdown",
   "metadata": {},
   "source": [
    "# Calendar Module\n",
    "<a>Task</a> : You are given a date. Your task is to find what the day is on that date.\n",
    "\n",
    "<a>Input Format</a> : A single line of input containing the space separated month, day and year, respectively, in  <em>MM DD YYYYY</em>   format. "
   ]
  },
  {
   "cell_type": "code",
   "execution_count": 5,
   "metadata": {},
   "outputs": [
    {
     "name": "stdout",
     "output_type": "stream",
     "text": [
      "WEDNESDAY\n"
     ]
    }
   ],
   "source": [
    "import calendar\n",
    "\n",
    "m, d, y = map(int, input().split(sep=\" \"))\n",
    "\n",
    "print(calendar.day_name[calendar.weekday(year=y, month=m, day=d)].upper())"
   ]
  },
  {
   "cell_type": "markdown",
   "metadata": {},
   "source": [
    "# Exceptions\n",
    "<a>Task</a> : You are given two values <em>a</em> and <em>b</em>.\n",
    "Perform integer division and print <em>a/b</em>.\n",
    "\n",
    "<a>Input Format</a> : The first line contains <em>T</em>, the number of test cases.\n",
    "The next <em>T</em> lines each contain the space separated values of <em>a</em> and <em>b</em>.\n",
    "\n"
   ]
  },
  {
   "cell_type": "code",
   "execution_count": 6,
   "metadata": {},
   "outputs": [
    {
     "name": "stdout",
     "output_type": "stream",
     "text": [
      "5\n",
      "Error Code: invalid literal for int() with base 10: 'a'\n",
      "Error Code: integer division or modulo by zero\n"
     ]
    }
   ],
   "source": [
    "t = int(input())\n",
    "for _ in range(t):\n",
    "    try:\n",
    "        a,b = map(int, input().split(sep=\" \"))\n",
    "        print(a//b)\n",
    "    except Exception as exception:\n",
    "        print(\"Error Code:\", exception)"
   ]
  },
  {
   "cell_type": "markdown",
   "metadata": {},
   "source": [
    "# Time Delta\n",
    "<a>Task</a> : You are given two timestamps of one such post that a user can see on his newsfeed in the following format:\n",
    "\n",
    "<em>Day dd Mon yyyy hh:mm:ss +xxxx</em>\n",
    "\n",
    "Here +xxxx represents the time zone. Your task is to print the absolute difference (in seconds) between them.\n",
    "\n",
    "<a>Input Format</a> : The first line contains <em>T</em>, the number of testcases.\n",
    "Each testcase contains <em>2</em> lines, representing time <em>t1</em> and time <em>t2</em>.\n",
    "\n"
   ]
  },
  {
   "cell_type": "code",
   "execution_count": 8,
   "metadata": {},
   "outputs": [
    {
     "name": "stdout",
     "output_type": "stream",
     "text": [
      "25200\n",
      "88200\n"
     ]
    }
   ],
   "source": [
    "from datetime import datetime, timedelta\n",
    "\n",
    "# Complete the time_delta function below.\n",
    "def time_delta(t1, t2):\n",
    "    input_format = \"%a %d %b %Y %H:%M:%S %z\"\n",
    "\n",
    "    return int(abs(datetime.strptime(t1, input_format)-datetime.strptime(t2, input_format)).total_seconds())\n",
    "\n",
    "if __name__ == '__main__':\n",
    "    t = int(input())\n",
    "    for t_itr in range(t):\n",
    "        t1 = input()\n",
    "\n",
    "        t2 = input()\n",
    "\n",
    "        print(time_delta(t1, t2))\n"
   ]
  }
 ],
 "metadata": {
  "interpreter": {
   "hash": "d84e8cbf94d05e254a793d6313d23a094fb66381629e37afe81ec295a13b228d"
  },
  "kernelspec": {
   "display_name": "Python 3.7.7 64-bit",
   "language": "python",
   "name": "python3"
  },
  "language_info": {
   "codemirror_mode": {
    "name": "ipython",
    "version": 3
   },
   "file_extension": ".py",
   "mimetype": "text/x-python",
   "name": "python",
   "nbconvert_exporter": "python",
   "pygments_lexer": "ipython3",
   "version": "3.7.7"
  },
  "orig_nbformat": 4
 },
 "nbformat": 4,
 "nbformat_minor": 2
}
